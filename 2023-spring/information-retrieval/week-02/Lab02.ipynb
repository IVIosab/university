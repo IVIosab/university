{
 "cells": [
  {
   "cell_type": "markdown",
   "id": "f70e56cb-00be-49e1-869a-deac83bac346",
   "metadata": {},
   "source": [
    "# Essential skill for the Internet crawling\n",
    "\n",
    "## Regular expressions\n",
    "\n",
    "Regular expressions (aka regex, regexp) are used to search for patterns. Machine-readable languages often have regualar structure (not always), or at least are non-ambiguous.\n",
    "\n",
    "Obvious way is, of course, to let machine parse the document and then process the result (as in the previous lab). But this often result in additinal depenencies and significant memory and time overhead (which is ok for a single document, but won't work for millions).\n",
    "\n",
    "### Simple examples"
   ]
  },
  {
   "cell_type": "code",
   "execution_count": 23,
   "id": "1be93130-a7a5-4f2d-9172-1bccf1d87123",
   "metadata": {},
   "outputs": [
    {
     "name": "stdout",
     "output_type": "stream",
     "text": [
      "\\s\\s\\S+\\s\\S+\\s\\s: ['  def ghi  ', '  dasd asdd  ']\n",
      "\n",
      "\\w+: ['we', 'have', 'only', '5', 'do11ars', 'This', 'amount', 'of', 'is', 'small', 'How', 'should', 'we', 'sur', 'vive']\n",
      "\n",
      "[\\w\\-]+: ['we', 'have', 'only', '5', 'do11ars', 'This', 'amount', 'of', 'is', 'small', 'How', 'should', 'we', 'sur-vive']\n",
      "\n",
      "[a-zA-Z0-9\\-]+: ['we', 'have', 'only', '5', 'do11ars', 'This', 'amount', 'of', 'is', 'small', 'How', 'should', 'we', 'sur-vive']\n",
      "\n",
      ".+: ['we have only 5 do11ars. This amount of $ is small. How should we sur-vive?']\n",
      "\n",
      "\\S+: ['we', 'have', 'only', '5', 'do11ars.', 'This', 'amount', 'of', '$', 'is', 'small.', 'How', 'should', 'we', 'sur-vive?']\n",
      "\n",
      "\\W+[a-z]+\\-[a-z]+.$: [' sur-vive?']\n"
     ]
    }
   ],
   "source": [
    "import re\n",
    "string = \"we have only 5 do11ars. This amount of $ is small. How should we sur-vive?\"\n",
    "\n",
    "string2 = \"  abc  def ghi    dasd asdd  \"\n",
    "pattern = \"\\s\\s\\S+\\s\\S+\\s\\s\"\n",
    "print(pattern, end=\": \")\n",
    "print(re.findall(pattern, string2))\n",
    "print()\n",
    "\n",
    "# all alphanumerics\n",
    "pattern = \"\\w+\"\n",
    "print(pattern, end=\": \")\n",
    "print(re.findall(pattern, string))\n",
    "print()\n",
    "\n",
    "# all alphanumerics but also with hyphen\n",
    "pattern = \"[\\w\\-]+\"\n",
    "print(pattern, end=\": \")\n",
    "print(re.findall(pattern, string))\n",
    "print()\n",
    "\n",
    "# the same but using explicit character enumeration\n",
    "pattern = \"[a-zA-Z0-9\\-]+\"\n",
    "print(pattern, end=\": \")\n",
    "print(re.findall(pattern, string))\n",
    "print()\n",
    "\n",
    "# any symbol\n",
    "pattern = \".+\"\n",
    "print(pattern, end=\": \")\n",
    "print(re.findall(pattern, string))\n",
    "print()\n",
    "\n",
    "# non-spaces, not the same as \\w!\n",
    "pattern = \"\\S+\"\n",
    "print(pattern, end=\": \")\n",
    "print(re.findall(pattern, string))\n",
    "print()\n",
    "\n",
    "\n",
    "# discuss this pattern. Which elements are used here?\n",
    "pattern = \"\\W+[a-z]+\\-[a-z]+.$\"\n",
    "print(pattern, end=\": \")\n",
    "print(re.findall(pattern, string))"
   ]
  },
  {
   "cell_type": "markdown",
   "id": "cbd60467-c31a-4977-af18-a77862cf60aa",
   "metadata": {},
   "source": [
    "### Find URLs/URIs vs parse the doc\n",
    "\n",
    "Instead of building DOM model and extracting `href` and `src` attributes, you may rely on the structure of the url itself. Extact all URLs from [the page](https://math.stackexchange.com/questions/411486/understanding-the-singular-value-decomposition-svd) with regexp. You major tool is [re.findall(...)](https://docs.python.org/3/library/re.html#). You may also be interested in compiled regular rexpression (if you reuse one)."
   ]
  },
  {
   "cell_type": "code",
   "execution_count": null,
   "id": "a6312c41-143c-4d38-af65-0ad9652caab7",
   "metadata": {},
   "outputs": [],
   "source": [
    "import re\n",
    "import requests\n",
    "\n",
    "url = \"https://math.stackexchange.com/questions/\"\\\n",
    "        \"411486/understanding-the-singular-value-decomposition-svd\"\n",
    "\n",
    "text = requests.get(url).text\n",
    "\n",
    "# my inspiration - \n",
    "# I took some example URL regexp from the internet, \n",
    "# specifically from here:\n",
    "# https://stackoverflow.com/questions/3809401/what-is-a-good-regular-expression-to-match-a-url\n",
    "expressions = [\n",
    "    \"(?:([A-Za-z]+):)?(\\/{0,3})([0-9.\\-A-Za-z]+)(?::(\\d+))?(?:\\/([^?#]*))?(?:\\?([^#]*))?(?:#(.*))?\",\n",
    "    \"(www|http:|https:)+[^\\s]+[\\w]\",\n",
    "    \"https?:\\/\\/(www\\.)?[-a-zA-Z0-9@:%._\\+~#=]{1,256}\\.[a-zA-Z0-9()]{1,6}\\b([-a-zA-Z0-9()@:%_\\+.~#?&//=]*)\",\n",
    "    \"[-a-zA-Z0-9@:%._\\+~#=]{1,256}\\.[a-zA-Z0-9()]{1,6}\\b([-a-zA-Z0-9()@:%_\\+.~#?&//=]*)?\",\n",
    "    \"(https?:\\/\\/(?:www\\.|(?!www))[a-zA-Z0-9][a-zA-Z0-9-]+[a-zA-Z0-9]\\.[^\\s]{2,}|www\\.[a-zA-Z0-9][a-zA-Z0-9-]+[a-zA-Z0-9]\\.[^\\s]{2,}|https?:\\/\\/(?:www\\.|(?!www))[a-zA-Z0-9]+\\.[^\\s]{2,}|www\\.[a-zA-Z0-9]+\\.[^\\s]{2,})\",\n",
    "    \"(?!mailto:)(?:(?:http|https|ftp)://)(?:\\\\S+(?::\\\\S*)?@)?(?:(?:(?:[1-9]\\\\d?|1\\\\d\\\\d|2[01]\\\\d|22[0-3])(?:\\\\.(?:1?\\\\d{1,2}|2[0-4]\\\\d|25[0-5])){2}(?:\\\\.(?:[0-9]\\\\d?|1\\\\d\\\\d|2[0-4]\\\\d|25[0-4]))|(?:(?:[a-z\\\\u00a1-\\\\uffff0-9]+-?)*[a-z\\\\u00a1-\\\\uffff0-9]+)(?:\\\\.(?:[a-z\\\\u00a1-\\\\uffff0-9]+-?)*[a-z\\\\u00a1-\\\\uffff0-9]+)*(?:\\\\.(?:[a-z\\\\u00a1-\\\\uffff]{2,})))|localhost)(?::\\\\d{2,5})?(?:(/|\\\\?|#)[^\\\\s]*)?\",\n",
    "    \"https?:\\/\\/(?:www\\.)?[-a-zA-Z0-9@:%._\\+~#=]{1,256}\\.[a-zA-Z0-9()]{1,6}\\b(?:[-a-zA-Z0-9()@:%_\\+.~#?&\\/=]*)\",\n",
    "]\n",
    "\n",
    "for expression in expressions:\n",
    "    print()\n",
    "    pattern = re.compile(expression)\n",
    "    urls = pattern.findall(text)\n",
    "    print(expression)\n",
    "    print(urls[:10])"
   ]
  },
  {
   "cell_type": "markdown",
   "id": "63197434-4483-4d3c-ae0f-0dfb91f396b7",
   "metadata": {},
   "source": [
    "Was this success? \n",
    "\n",
    "Compose your own minimalistic:"
   ]
  },
  {
   "cell_type": "code",
   "execution_count": 17,
   "id": "d2055e8c-20d1-4cfe-9229-0f22a24183fb",
   "metadata": {},
   "outputs": [
    {
     "name": "stdout",
     "output_type": "stream",
     "text": [
      "['https://schema.org/QAPage', 'https://cdn.sstatic.net/Sites/math/Img/favicon.ico?v=92addaa54d18', 'https://cdn.sstatic.net/Sites/math/Img/apple-touch-icon.png?v=0ae50baa40ed', 'https://cdn.sstatic.net/Sites/math/Img/apple-touch-icon.png?v=0ae50baa40ed', 'https://math.stackexchange.com/questions/411486/understanding-the-singular-value-decomposition-svd', 'https://math.stackexchange.com/questions/411486/understanding-the-singular-value-decomposition-svd', 'https://cdn.sstatic.net/Sites/math/Img/apple-touch-icon', 'https://cdn.sstatic.net/', 'https://ajax.googleapis.com/ajax/libs/jquery/1.12.4/jquery.min.js', 'https://cdn.sstatic.net/Js/third-party/npm/', 'https://cdn.sstatic.net/Js/stub.en.js?v=cb2c416fc3c2', 'https://cdn.sstatic.net/Shared/stacks.css?v=cb9621e41d1f', 'https://cdn.sstatic.net/Sites/math/primary.css?v=19cbc70ffa04', 'https://math.stackexchange.com/questions/411486/understanding-the-singular-value-decomposition-svd', 'https://cdn.sstatic.net/Shared/Channels/channels.css?v=a5fae8812988', 'https://cdn.sstatic.net/Js/third-party/citation-helper.js?v=2591ce444a3f', 'https://cdnjs.cloudflare.com/ajax/libs/mathjax/2.7.5/MathJax.js?config=TeX-AMS_HTML-full', 'https://stackauth.com', 'https://math.meta.stackexchange.com', 'https://cdn.sstatic.net/Img/stacks-icons', 'https://stacksnippets.net', 'https://ajax.googleapis.com/ajax/libs/jqueryui/1.12.0/themes/smoothness/jquery-ui.css', 'https://ajax.googleapis.com/ajax/libs/jqueryui/1.12.0/jquery-ui.min.js', 'https://www.opavote.com/results/', 'https://stackoverflow.com', 'https://stackexchange.com', 'https://math.meta.stackexchange.com', 'https://stackoverflow.co/', 'https://stackoverflow.co/', 'https://stackexchange.com', 'https://math.stackexchange.com', 'https://math.stackexchange.com', 'https://math.stackexchange.com/help', 'https://chat.stackexchange.com?tab=site&amp;host=math.stackexchange.com', 'https://math.meta.stackexchange.com', 'https://math.stackexchange.com/users/signup?ssrc=site_switcher&amp;returnurl=https%3a%2f%2fmath.stackexchange.com%2fquestions%2f411486%2funderstanding-the-singular-value-decomposition-svd', 'https://math.stackexchange.com/users/login?ssrc=site_switcher&amp;returnurl=https%3a%2f%2fmath.stackexchange.com%2fquestions%2f411486%2funderstanding-the-singular-value-decomposition-svd', 'https://stackexchange.com/sites', 'https://stackoverflow.blog', 'https://math.stackexchange.com/users/login?ssrc=head&returnurl=https%3a%2f%2fmath.stackexchange.com%2fquestions%2f411486%2funderstanding-the-singular-value-decomposition-svd', 'https://math.stackexchange.com/users/signup?ssrc=head&returnurl=https%3a%2f%2fmath.stackexchange.com%2fquestions%2f411486%2funderstanding-the-singular-value-decomposition-svd', 'https://cdn.sstatic.net/Img/hero/anonymousHeroQuestions.svg?v=748bfb046b78', 'https://cdn.sstatic.net/Img/hero/anonymousHeroAnswers.svg?v=d5348b00eddc', 'https://cdn.sstatic.net/Img/hero/anonymousHeroUpvote.svg?v=af2bb70d5d1b', 'https://math.stackexchange.com', 'https://cdn.sstatic.net/Sites/math/Img/logo.svg?v=2ad3f9715b74', 'https://cdn.sstatic.net/Img/teams/teams-illo-free-sidebar-promo.svg?v=47faa659a05e', 'https://try.stackoverflow.co/why-teams/?utm_source=so-owned&amp;utm_medium=side-bar&amp;utm_campaign=campaign-38&amp;utm_content=cta', 'https://stackoverflow.co/teams', 'https://stackoverflowteams.com/teams/create/free?utm_source=so-owned&amp;utm_medium=side-bar&amp;utm_campaign=campaign-38&amp;utm_content=cta', 'https://stackoverflow.co/teams', 'https://schema.org/Question', 'https://cdn.sstatic.net/Sites/math/Img/apple-touch-icon.png?v=0ae50baa40ed', 'https://www.gravatar.com/avatar/ef4feaacbcbd03edc4fb721854ad3f75?s=64&amp;d=identicon&amp;r=PG', 'https://www.gravatar.com/avatar/b279f73aa1d17d73f46c2bdceeb46d29?s=64&amp;d=identicon&amp;r=PG', 'http://schema.org/Person', 'http://math.stackexchange.com/questions/173601/a-number-of-svd-components-understanding-the-relation', 'http://stats.stackexchange.com/questions/177102/what-is-the-intuition-behind-svd/179042#179042', 'https://stats.stackexchange.com/a/403924/43159', 'https://schema.org/Answer', 'https://i.stack.imgur.com/a7Zy7.jpg?s=64&amp;g=1', 'http://schema.org/Person', 'https://schema.org/Answer', 'https://en.wikipedia.org/wiki/Singular_value_decomposition#/media/File:Singular-Value-Decomposition.svg', 'https://upload.wikimedia.org/wikipedia/commons/thumb/b/bb/Singular-Value-Decomposition.svg/1920px-Singular-Value-Decomposition.svg.png', 'https://i.stack.imgur.com/W1hSm.jpg?s=64&amp;g=1', 'http://schema.org/Person', 'https://schema.org/Answer', 'https://i.stack.imgur.com/ySv7S.png', 'https://i.stack.imgur.com/ySv7S.png', 'https://i.stack.imgur.com/hyhm2.png', 'https://i.stack.imgur.com/hyhm2.png', 'https://lh3.googleusercontent.com/-nT9j8JWdIfU/AAAAAAAAAAI/AAAAAAAAACI/E5Hg8YgyEtk/photo.jpg?sz=64', 'http://schema.org/Person', 'https://schema.org/Answer', 'https://i.stack.imgur.com/FxZ1Z.png', 'https://i.stack.imgur.com/FxZ1Z.png', 'https://www.heavisidesdinner.com/LTFMfigures/LTFM_figures.html', 'https://lh3.googleusercontent.com/-nT9j8JWdIfU/AAAAAAAAAAI/AAAAAAAAACI/E5Hg8YgyEtk/photo.jpg?sz=64', 'http://schema.org/Person', 'https://schema.org/Answer', 'https://i.stack.imgur.com/g6xTG.jpg?s=64&amp;g=1', 'http://schema.org/Person', 'https://schema.org/Answer', 'https://i.stack.imgur.com/HVb34.jpg?s=64&amp;g=1', 'http://schema.org/Person', 'https://schema.org/Answer', 'https://i.stack.imgur.com/gElKj.jpg?s=64&amp;g=1', 'http://schema.org/Person', 'https://meta.stackexchange.com/questions/386102/accessibility-update-colors', 'https://meta.stackexchange.com/questions/386102/accessibility-update-colors', 'https://stackexchange.com/questions?tab=hot', 'https://matheducators.stackexchange.com/questions/26062/should-math-for-elementary-teachers-content-be-taught-under-the-direction-of-the', 'https://retrocomputing.stackexchange.com/questions/26292/conin-console-in-in-cp-m-and-old-characters-in-character-latch', 'https://worldbuilding.stackexchange.com/questions/241383/how-to-make-advanced-future-humans-extinct-get-rid-of-them', 'https://math.stackexchange.com/questions/4627425/why-do-we-say-that-the-inner-product-captures-the-notion-of-angle', 'https://superuser.com/questions/1765625/how-do-i-pass-the-password-to-a-net-use-command-which-contains-at-the-end', 'https://quantumcomputing.stackexchange.com/questions/29929/do-quantum-loops-exist', 'https://tex.stackexchange.com/questions/673331/multiple-alignments-of-equations', 'https://worldbuilding.stackexchange.com/questions/241372/creating-a-supercomputer-powered-by-tidal-heating', 'https://retrocomputing.stackexchange.com/questions/26294/history-of-high-availability-in-the-mainframe-and-minicomputer-eras', 'https://physics.stackexchange.com/questions/747546/does-a-double-star-system-have-more-mass-than-its-constituents', 'https://movies.stackexchange.com/questions/119484/what-does-the-ending-of-the-banshees-of-inisherin-mean', 'https://rpg.stackexchange.com/questions/204346/multiattack-defense-vs-legendary-actions', 'https://mathematica.stackexchange.com/questions/279275/how-to-draw-a-cube-to-facilitate-subsequent-vector-operations', 'https://mathematica.stackexchange.com/questions/279247/how-to-draw-a-cube', 'https://philosophy.stackexchange.com/questions/96455/is-indifference-to-ethical-dicussion-by-definition-unethical', 'https://ell.stackexchange.com/questions/331876/he-was-playing-for-two-hours-or-he-had-been-playing-for-two-hours', 'https://academia.stackexchange.com/questions/192943/got-accepted-to-top-choice-phd-program-drop-other-interviews', 'https://electronics.stackexchange.com/questions/651973/why-is-my-op-amp-pulse-generator-lf353-delivering-way-less-voltage-', 'https://mathoverflow.net/questions/439633/conductor-at-2-of-abelian-surfaces-with-real-multiplication', 'https://scifi.stackexchange.com/questions/271664/tv-sci-fi-show-with-strong-female-lead-who-looks-after-artifacts-and-also-had-ni', 'https://travel.stackexchange.com/questions/179101/what-will-they-do-if-i-overstay-my-visitor-visa-6-months-by-a-few-days-in-the', 'https://electronics.stackexchange.com/questions/651842/i-ripped-the-lead-off-this-film-capacitor-by-mistake-is-it-beyond-repair', 'https://philosophy.stackexchange.com/questions/96481/if-we-stick-to-the-way-in-taoism-wont-it-be-sinful', 'https://scifi.stackexchange.com/questions/271690/whats-the-mythological-boss-monster-from-the-battle-of-the-labyrinth', 'https://math.stackexchange.com/feeds/question/411486', 'https://cdn.sstatic.net/clc/js/bundles/gam_loader_script/gam_loader_script.bundle.741.a1bd5bd69766c6c9192d.min.js', 'https://securepubads.g.doubleclick.net/tag/js/gpt.js', 'https://pagead2.googlesyndication.com/tag/js/gpt.js', 'https://chat.stackexchange.com?tab=site&host=math.stackexchange.com', 'https://math.meta.stackexchange.com', 'https://stackoverflow.co/', 'https://stackoverflow.com', 'https://stackoverflow.co/teams', 'https://stackoverflow.co/advertising', 'https://stackoverflow.co/collectives', 'https://stackoverflow.co/talent', 'https://stackoverflow.co/', 'https://stackoverflow.co/company/press', 'https://stackoverflow.com/legal', 'https://stackoverflow.com/legal/privacy-policy', 'https://stackoverflow.com/legal/terms-of-service', 'https://stackoverflow.com/legal/cookie-policy', 'https://stackexchange.com', 'https://stackexchange.com/sites#technology', 'https://stackexchange.com/sites#culturerecreation', 'https://stackexchange.com/sites#lifearts', 'https://stackexchange.com/sites#science', 'https://stackexchange.com/sites#professional', 'https://stackexchange.com/sites#business', 'https://api.stackexchange.com/', 'https://data.stackexchange.com/', 'https://stackoverflow.blog?blb=1', 'https://www.facebook.com/officialstackoverflow/', 'https://twitter.com/stackoverflow', 'https://linkedin.com/company/stack-overflow', 'https://www.instagram.com/thestackoverflow', 'https://stackoverflow.com/help/licensing', 'https://www.googletagmanager.com/gtag/js?id=G-S812YQPLT2', 'https://stackoverflow.com/legal/cookie-policy']\n"
     ]
    }
   ],
   "source": [
    "import re\n",
    "import requests\n",
    "\n",
    "url = \"https://math.stackexchange.com/questions/\"\\\n",
    "        \"411486/understanding-the-singular-value-decomposition-svd\"\n",
    "\n",
    "text = requests.get(url).text\n",
    "\n",
    "protocol = \"https?://\"\n",
    "domain = \"[\\w\\-\\.]+\"\n",
    "path = \"[/\\w\\-\\.]*\"\n",
    "args =  \"(?:\\?[\\w$%-_;]+)?\"\n",
    "hashtail = \"(?:#[\\w$%-_;]+)?\"\n",
    "\n",
    "expression = protocol + domain + path + args + hashtail\n",
    "pattern = re.compile(expression)\n",
    "regexp_urls = pattern.findall(text)\n",
    "print(regexp_urls)"
   ]
  },
  {
   "cell_type": "markdown",
   "id": "d2174daf-3ea2-4622-89d2-751aed1e29b9",
   "metadata": {},
   "source": [
    "# Streams and files\n",
    "\n",
    "When you deal with the big files you should take care about the RAM. Today 1GB won't suprise anyone on the desktop, but server machines, which implement crawlers, may be optimized for the resource.\n",
    "\n",
    "Using streams instead of RAM-cached files is a good strategy.\n",
    "\n",
    "- Look for solution here: https://stackoverflow.com/a/16696317\n",
    "- Look for the sample big file here: http://xcal1.vodafone.co.uk/\n",
    "- Read about python memory measurement here: https://pythonspeed.com/articles/measuring-memory-python/"
   ]
  },
  {
   "cell_type": "code",
   "execution_count": 4,
   "id": "c819e5ad-2c3e-43b1-a45c-2c1db556e4d9",
   "metadata": {},
   "outputs": [],
   "source": [
    "import psutil, gc \n",
    "\n",
    "def get_mem():\n",
    "    return psutil.Process().memory_info().rss"
   ]
  },
  {
   "cell_type": "code",
   "execution_count": 5,
   "id": "3d45cfdf-661e-47bb-a2c1-336b7d091a53",
   "metadata": {},
   "outputs": [],
   "source": [
    "large_file_url = \"http://212.183.159.230/100MB.zip\""
   ]
  },
  {
   "cell_type": "markdown",
   "id": "5c447d2f-383b-4d5e-ad83-67feab474dec",
   "metadata": {},
   "source": [
    "First, download the file as you would do it simple way:"
   ]
  },
  {
   "cell_type": "code",
   "execution_count": 6,
   "id": "77d31dd2-b334-4d77-820e-ed78b81ad5c4",
   "metadata": {},
   "outputs": [
    {
     "name": "stdout",
     "output_type": "stream",
     "text": [
      "Resident set size: 77885440\n",
      "Resident set size: 226037760\n",
      "Resident set size: 226041856\n",
      "Resident set size: 226041856\n"
     ]
    }
   ],
   "source": [
    "gc.collect()\n",
    "print(\"Resident set size:\", get_mem())\n",
    "data = requests.get(large_file_url).content\n",
    "print(\"Resident set size:\", get_mem())\n",
    "\n",
    "with open('100-RAM', 'wb') as f:\n",
    "    f.write(data)\n",
    "\n",
    "print(\"Resident set size:\", get_mem())\n",
    "data = None\n",
    "gc.collect()\n",
    "print(\"Resident set size:\", get_mem())"
   ]
  },
  {
   "cell_type": "markdown",
   "id": "05ad622c-6821-467d-8f9d-6269fed14097",
   "metadata": {},
   "source": [
    "And then use the streaming mode of the `requests` library."
   ]
  },
  {
   "cell_type": "code",
   "execution_count": 7,
   "id": "0f20b4eb-a60c-4be1-910e-c029bdf4cb2c",
   "metadata": {},
   "outputs": [
    {
     "name": "stdout",
     "output_type": "stream",
     "text": [
      "Resident set size: 226054144\n",
      "Resident set size: 226754560\n"
     ]
    }
   ],
   "source": [
    "import requests\n",
    "import shutil\n",
    "\n",
    "def download_file(url, destination):\n",
    "    pass\n",
    "\n",
    "gc.collect()\n",
    "print(\"Resident set size:\", get_mem())\n",
    "download_file(large_file_url, \"100-stream\")\n",
    "print(\"Resident set size:\", get_mem())"
   ]
  },
  {
   "cell_type": "markdown",
   "id": "b02814d2-da81-40c6-baa2-a1453626df3a",
   "metadata": {},
   "source": [
    "# BeautifulSoup\n",
    "\n",
    "Plain text HTML is a mixture of content, markup, and code. Extracting structure, or URLs, or plain text might be tricky with regular expressions. \n",
    "\n",
    "Building a DOM model is slow, but may save a lot of code and keep you from mistakes.\n",
    "\n",
    "## Extract all sentences\n",
    "For indexing and semantic analysis we use different granularity. Often sentence is a good choice. "
   ]
  },
  {
   "cell_type": "code",
   "execution_count": 8,
   "id": "186a793c-39ea-463d-8106-b719e4de3e33",
   "metadata": {},
   "outputs": [
    {
     "name": "stdout",
     "output_type": "stream",
     "text": [
      "['Jun 4, 2013 at 22:55', '$\\\\begingroup$', 'Thanks @julien.', 'Thanks for your comment.', 'I read what are singular values in the D matrix.', 'I know they are square roots of eigenvalues of $\\\\textbf{A}^{\\\\textrm{T}}\\\\textbf{A}$.', \"What I don't understand is the meaning?\", 'I know if I e.g.', 'take covariance matrix and diagonalize it, I end up with eigenvalues (or maximum/unique/?singular?', 'values) in a diagonal matrix representing variances.']\n"
     ]
    }
   ],
   "source": [
    "from bs4 import BeautifulSoup\n",
    "from bs4.element import Comment\n",
    "from nltk import tokenize\n",
    "\n",
    "doc_url = \"https://math.stackexchange.com/questions/\"\\\n",
    "        \"411486/understanding-the-singular-value-decomposition-svd\"\n",
    "\n",
    "text = requests.get(doc_url).text\n",
    "dom = BeautifulSoup(text)\n",
    "paragraphs = [p.strip() for p in dom.text.split('\\n') if p.strip()]\n",
    "\n",
    "sents = []\n",
    "for p in paragraphs:\n",
    "    pass\n",
    "    # TODO\n",
    "    \n",
    "print(sents[90:100])"
   ]
  },
  {
   "cell_type": "markdown",
   "id": "8ead20dc-0608-4dde-a34a-3663692c9c6c",
   "metadata": {},
   "source": [
    "# Extract URLs from nodes\n",
    "\n",
    "Be careful with relative links. How would you process them?"
   ]
  },
  {
   "cell_type": "code",
   "execution_count": 9,
   "id": "33586e48-d334-4641-9d37-a24894026b86",
   "metadata": {},
   "outputs": [
    {
     "data": {
      "text/plain": [
       "['https://mathematica.stackexchange.com/questions/275684/how-can-i-write-this-using-less-variables',\n",
       " 'https://space.stackexchange.com/questions/60883/life-support-system-weight-estimate',\n",
       " 'https://math.stackexchange.com/questions/704238/singular-value-decomposition-of-rank-1-matrix',\n",
       " 'https://stackoverflow.co/company/press',\n",
       " 'https://math.stackexchange.com/questions/tagged/matrix-decomposition',\n",
       " 'https://try.stackoverflow.co/why-teams/?utm_source=so-owned&utm_medium=side-bar&utm_campaign=campaign-38&utm_content=cta',\n",
       " 'https://linkedin.com/company/stack-overflow',\n",
       " 'https://www.instagram.com/thestackoverflow',\n",
       " 'https://math.stackexchange.com/questions/816884/relationship-between-the-singular-value-decomposition-svd-and-the-principal-co',\n",
       " 'https://math.stackexchange.com/tags']"
      ]
     },
     "execution_count": 9,
     "metadata": {},
     "output_type": "execute_result"
    }
   ],
   "source": [
    "import urllib.parse\n",
    "\n",
    "all_hrefs = dom.find_all('a', href=True)\n",
    "all_urls = set()\n",
    "\n",
    "for a in all_hrefs:\n",
    "    url = ...\n",
    "    all_urls.add(url)\n",
    "\n",
    "all_urls = list(all_urls)\n",
    "all_urls[:10]"
   ]
  },
  {
   "cell_type": "markdown",
   "id": "f9951d22-ec99-4d13-ad47-38d35d388827",
   "metadata": {},
   "source": [
    "Discuss the next result:"
   ]
  },
  {
   "cell_type": "code",
   "execution_count": 10,
   "id": "ec65f900-3a74-4664-8b38-301f7c292649",
   "metadata": {},
   "outputs": [
    {
     "name": "stdout",
     "output_type": "stream",
     "text": [
      "|DOM ∩ REGX| = 50\n",
      "|DOM \\ REGX| = 90\n",
      "|REGX \\ DOM| = 71\n"
     ]
    }
   ],
   "source": [
    "print(\"|DOM ∩ REGX| =\", len(set(all_urls) & set(regexp_urls)))\n",
    "print(\"|DOM \\ REGX| =\", len(set(all_urls) - set(regexp_urls)))\n",
    "print(\"|REGX \\ DOM| =\", len(set(regexp_urls) - set(all_urls)))"
   ]
  },
  {
   "cell_type": "markdown",
   "id": "9a6bb8ed-9a9b-44db-bb97-9ef6cfe69b97",
   "metadata": {},
   "source": [
    "# Unique file name\n",
    "\n",
    "Please, never try to convert a domain (`google.com`), or a path component (`/index.php`) into a filename. They are not unique!\n",
    "\n",
    "Also, better not to try to substitute sensitive symbols of the full URL (`/:`...) -- you will definitely forget one. Also, you may easily overflow file name.\n",
    "\n",
    "Nice way is to use hash strings with fixed length and character set. Compute hash strings from the previous list."
   ]
  },
  {
   "cell_type": "code",
   "execution_count": 11,
   "id": "83ab186e-d4e0-4612-a4f4-be7eadae4d47",
   "metadata": {},
   "outputs": [
    {
     "name": "stdout",
     "output_type": "stream",
     "text": [
      "580c896703b639c47da3cf30be6a78fb5a831302 https://mathema...-less-variables\n",
      "42af2a47767f85259c15acc787b9e012eea6546a https://space.s...weight-estimate\n",
      "0440787fda1ce3524156f5f2e8125236f56c7938 https://math.st...f-rank-1-matrix\n",
      "537f99069a4a9ea7fade70e8965ce649761c35d3 https://stackov...o/company/press\n",
      "7213bb1c3dc14ce0556ab4ae331d16e3d19fb7f1 https://math.st...x-decomposition\n",
      "4814f9498243604b1389d9b29748f0409259871c https://try.sta...utm_content=cta\n",
      "07ebb6201d0237b1221669f4fe8bc3a1059801cf https://linkedi.../stack-overflow\n",
      "94cca9af043d0cd0180df9a5ccd6994894b5a32e https://www.ins...hestackoverflow\n",
      "79b30ae1372efe609c895a9486889e7a21f3ecf1 https://math.st...he-principal-co\n",
      "52268fea4169df93b9c8f0eb65acb2e8fb80ce26 https://math.st...change.com/tags\n",
      "bc68302b130f462c04f1f42ba3595f153393e835 https://math.st...11486/revisions\n",
      "1b693522de70d4d61b2df723b69f98703983b31a https://mathove...absolute-values\n",
      "ae60f62b3195c9be30f748ceb6bba04c62b0cc83 https://math.st...ions/tagged/svd\n",
      "a9b97ece3afe2c0c36f997f5287ee9b4e79162df https://meta.st...-decommissioned\n",
      "da46726ebfcd412c643f37853ee3de417c5aad8e https://math.st...bart-vanderbeke\n",
      "0d7daa3c64a2de961a2a002729e97e0b02b1234a https://math.st...rs/81007/celdor\n",
      "2d1728113367210aaf9c8b3d7d661b2f9b4889e6 https://math.st...vd?noredirect=1\n",
      "4cf5f3883bfc22f3253da0f8036109483dc64336 https://math.st...composition-svd\n",
      "55836522d4c883228d83e2c06c03b0a3bba1e8a5 https://stackov...ceiving-to-fail\n",
      "17c17e9594bd57883b73a55cf468ca41c19c2bfa https://api.sta...ckexchange.com/\n"
     ]
    }
   ],
   "source": [
    "import hashlib\n",
    "\n",
    "for url in all_urls[:20]:\n",
    "    s = ...\n",
    "    print(s, url[:15] + \"...\" + url[-15:])"
   ]
  }
 ],
 "metadata": {
  "kernelspec": {
   "display_name": "Python 3",
   "language": "python",
   "name": "python3"
  },
  "language_info": {
   "codemirror_mode": {
    "name": "ipython",
    "version": 3
   },
   "file_extension": ".py",
   "mimetype": "text/x-python",
   "name": "python",
   "nbconvert_exporter": "python",
   "pygments_lexer": "ipython3",
   "version": "3.10.6"
  },
  "vscode": {
   "interpreter": {
    "hash": "916dbcbb3f70747c44a77c7bcd40155683ae19c65e1c03b4aa3499c5328201f1"
   }
  }
 },
 "nbformat": 4,
 "nbformat_minor": 5
}
