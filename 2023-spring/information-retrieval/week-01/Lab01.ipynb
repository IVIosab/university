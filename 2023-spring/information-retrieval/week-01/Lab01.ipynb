{
  "cells": [
    {
      "cell_type": "markdown",
      "id": "95edd0c6-b44e-40d6-9e9c-48f42ddd5207",
      "metadata": {
        "id": "95edd0c6-b44e-40d6-9e9c-48f42ddd5207"
      },
      "source": [
        "# 0. [OPTIONAL] Installing course dependencies\n",
        "\n",
        "These are dependencies for the whole course."
      ]
    },
    {
      "cell_type": "code",
      "execution_count": 3,
      "id": "7ae1d575-f278-450f-aa6f-d99e075a79e5",
      "metadata": {
        "id": "7ae1d575-f278-450f-aa6f-d99e075a79e5"
      },
      "outputs": [
        {
          "name": "stdout",
          "output_type": "stream",
          "text": [
            "Defaulting to user installation because normal site-packages is not writeable\n",
            "Requirement already satisfied: annoy>=1.17.0 in /home/iviosab/.local/lib/python3.10/site-packages (from -r ../requirements.txt (line 1)) (1.17.1)\n",
            "Collecting argparse>=1.4.0\n",
            "  Using cached argparse-1.4.0-py2.py3-none-any.whl (23 kB)\n",
            "Requirement already satisfied: bs4>=0.0.1 in /home/iviosab/.local/lib/python3.10/site-packages (from -r ../requirements.txt (line 3)) (0.0.1)\n",
            "Requirement already satisfied: feedparser>=6.0.8 in /home/iviosab/.local/lib/python3.10/site-packages (from -r ../requirements.txt (line 4)) (6.0.10)\n",
            "Requirement already satisfied: hnswlib in /home/iviosab/.local/lib/python3.10/site-packages (from -r ../requirements.txt (line 5)) (0.6.2)\n",
            "Requirement already satisfied: imageio in /home/iviosab/.local/lib/python3.10/site-packages (from -r ../requirements.txt (line 6)) (2.25.0)\n",
            "Requirement already satisfied: img2vec_pytorch in /home/iviosab/.local/lib/python3.10/site-packages (from -r ../requirements.txt (line 7)) (1.0.1)\n",
            "Requirement already satisfied: jsonlines>=3.0.0 in /home/iviosab/.local/lib/python3.10/site-packages (from -r ../requirements.txt (line 8)) (3.1.0)\n",
            "Requirement already satisfied: librosa in /home/iviosab/.local/lib/python3.10/site-packages (from -r ../requirements.txt (line 9)) (0.9.2)\n",
            "Requirement already satisfied: matplotlib in /usr/lib/python3/dist-packages (from -r ../requirements.txt (line 10)) (3.5.1)\n",
            "Requirement already satisfied: nltk in /home/iviosab/.local/lib/python3.10/site-packages (from -r ../requirements.txt (line 11)) (3.8.1)\n",
            "Requirement already satisfied: numpy>=1.15 in /usr/lib/python3/dist-packages (from -r ../requirements.txt (line 12)) (1.21.5)\n",
            "Requirement already satisfied: opencv-contrib-python in /home/iviosab/.local/lib/python3.10/site-packages (from -r ../requirements.txt (line 13)) (4.7.0.68)\n",
            "Requirement already satisfied: opencv-python in /home/iviosab/.local/lib/python3.10/site-packages (from -r ../requirements.txt (line 14)) (4.7.0.68)\n",
            "Requirement already satisfied: pandas in /home/iviosab/.local/lib/python3.10/site-packages (from -r ../requirements.txt (line 15)) (1.5.3)\n",
            "Requirement already satisfied: Pillow in /usr/lib/python3/dist-packages (from -r ../requirements.txt (line 16)) (9.0.1)\n",
            "Requirement already satisfied: pygtrie>=2.4.2 in /home/iviosab/.local/lib/python3.10/site-packages (from -r ../requirements.txt (line 17)) (2.5.0)\n",
            "Requirement already satisfied: requests>=2.25.1 in /usr/lib/python3/dist-packages (from -r ../requirements.txt (line 18)) (2.25.1)\n",
            "Requirement already satisfied: scikit-learn in /home/iviosab/.local/lib/python3.10/site-packages (from -r ../requirements.txt (line 19)) (1.2.0)\n",
            "Requirement already satisfied: scipy in /usr/lib/python3/dist-packages (from -r ../requirements.txt (line 20)) (1.8.0)\n",
            "Requirement already satisfied: selenium>=4.1.0 in /home/iviosab/.local/lib/python3.10/site-packages (from -r ../requirements.txt (line 21)) (4.8.0)\n",
            "Requirement already satisfied: spacy in /home/iviosab/.local/lib/python3.10/site-packages (from -r ../requirements.txt (line 22)) (3.5.0)\n",
            "Requirement already satisfied: spacy-transformers in /home/iviosab/.local/lib/python3.10/site-packages (from -r ../requirements.txt (line 23)) (1.2.0)\n",
            "Requirement already satisfied: tqdm in /home/iviosab/.local/lib/python3.10/site-packages (from -r ../requirements.txt (line 24)) (4.64.1)\n",
            "Requirement already satisfied: beautifulsoup4 in /usr/lib/python3/dist-packages (from bs4>=0.0.1->-r ../requirements.txt (line 3)) (4.10.0)\n",
            "Requirement already satisfied: sgmllib3k in /home/iviosab/.local/lib/python3.10/site-packages (from feedparser>=6.0.8->-r ../requirements.txt (line 4)) (1.0.0)\n",
            "Requirement already satisfied: torchvision in /home/iviosab/.local/lib/python3.10/site-packages (from img2vec_pytorch->-r ../requirements.txt (line 7)) (0.14.1)\n",
            "Requirement already satisfied: torch in /home/iviosab/.local/lib/python3.10/site-packages (from img2vec_pytorch->-r ../requirements.txt (line 7)) (1.13.1)\n",
            "Requirement already satisfied: attrs>=19.2.0 in /usr/lib/python3/dist-packages (from jsonlines>=3.0.0->-r ../requirements.txt (line 8)) (21.2.0)\n",
            "Requirement already satisfied: decorator>=4.0.10 in /usr/lib/python3/dist-packages (from librosa->-r ../requirements.txt (line 9)) (4.4.2)\n",
            "Requirement already satisfied: audioread>=2.1.9 in /home/iviosab/.local/lib/python3.10/site-packages (from librosa->-r ../requirements.txt (line 9)) (3.0.0)\n",
            "Requirement already satisfied: resampy>=0.2.2 in /home/iviosab/.local/lib/python3.10/site-packages (from librosa->-r ../requirements.txt (line 9)) (0.4.2)\n",
            "Requirement already satisfied: joblib>=0.14 in /home/iviosab/.local/lib/python3.10/site-packages (from librosa->-r ../requirements.txt (line 9)) (1.2.0)\n",
            "Requirement already satisfied: soundfile>=0.10.2 in /home/iviosab/.local/lib/python3.10/site-packages (from librosa->-r ../requirements.txt (line 9)) (0.11.0)\n",
            "Requirement already satisfied: numba>=0.45.1 in /home/iviosab/.local/lib/python3.10/site-packages (from librosa->-r ../requirements.txt (line 9)) (0.56.4)\n",
            "Requirement already satisfied: pooch>=1.0 in /home/iviosab/.local/lib/python3.10/site-packages (from librosa->-r ../requirements.txt (line 9)) (1.6.0)\n",
            "Requirement already satisfied: packaging>=20.0 in /usr/lib/python3/dist-packages (from librosa->-r ../requirements.txt (line 9)) (21.3)\n",
            "Requirement already satisfied: click in /usr/lib/python3/dist-packages (from nltk->-r ../requirements.txt (line 11)) (8.0.3)\n",
            "Requirement already satisfied: regex>=2021.8.3 in /home/iviosab/.local/lib/python3.10/site-packages (from nltk->-r ../requirements.txt (line 11)) (2022.10.31)\n",
            "Requirement already satisfied: pytz>=2020.1 in /usr/lib/python3/dist-packages (from pandas->-r ../requirements.txt (line 15)) (2022.1)\n",
            "Requirement already satisfied: python-dateutil>=2.8.1 in /home/iviosab/.local/lib/python3.10/site-packages (from pandas->-r ../requirements.txt (line 15)) (2.8.2)\n",
            "Requirement already satisfied: threadpoolctl>=2.0.0 in /home/iviosab/.local/lib/python3.10/site-packages (from scikit-learn->-r ../requirements.txt (line 19)) (3.1.0)\n",
            "Requirement already satisfied: certifi>=2021.10.8 in /home/iviosab/.local/lib/python3.10/site-packages (from selenium>=4.1.0->-r ../requirements.txt (line 21)) (2022.12.7)\n",
            "Requirement already satisfied: trio-websocket~=0.9 in /home/iviosab/.local/lib/python3.10/site-packages (from selenium>=4.1.0->-r ../requirements.txt (line 21)) (0.9.2)\n",
            "Requirement already satisfied: urllib3[socks]~=1.26 in /usr/lib/python3/dist-packages (from selenium>=4.1.0->-r ../requirements.txt (line 21)) (1.26.5)\n",
            "Requirement already satisfied: trio~=0.17 in /home/iviosab/.local/lib/python3.10/site-packages (from selenium>=4.1.0->-r ../requirements.txt (line 21)) (0.22.0)\n",
            "Requirement already satisfied: catalogue<2.1.0,>=2.0.6 in /home/iviosab/.local/lib/python3.10/site-packages (from spacy->-r ../requirements.txt (line 22)) (2.0.8)\n",
            "Requirement already satisfied: langcodes<4.0.0,>=3.2.0 in /home/iviosab/.local/lib/python3.10/site-packages (from spacy->-r ../requirements.txt (line 22)) (3.3.0)\n",
            "Requirement already satisfied: murmurhash<1.1.0,>=0.28.0 in /home/iviosab/.local/lib/python3.10/site-packages (from spacy->-r ../requirements.txt (line 22)) (1.0.9)\n",
            "Requirement already satisfied: cymem<2.1.0,>=2.0.2 in /home/iviosab/.local/lib/python3.10/site-packages (from spacy->-r ../requirements.txt (line 22)) (2.0.7)\n",
            "Requirement already satisfied: wasabi<1.2.0,>=0.9.1 in /home/iviosab/.local/lib/python3.10/site-packages (from spacy->-r ../requirements.txt (line 22)) (1.1.1)\n",
            "Requirement already satisfied: typer<0.8.0,>=0.3.0 in /home/iviosab/.local/lib/python3.10/site-packages (from spacy->-r ../requirements.txt (line 22)) (0.7.0)\n",
            "Requirement already satisfied: preshed<3.1.0,>=3.0.2 in /home/iviosab/.local/lib/python3.10/site-packages (from spacy->-r ../requirements.txt (line 22)) (3.0.8)\n",
            "Requirement already satisfied: srsly<3.0.0,>=2.4.3 in /home/iviosab/.local/lib/python3.10/site-packages (from spacy->-r ../requirements.txt (line 22)) (2.4.5)\n",
            "Requirement already satisfied: smart-open<7.0.0,>=5.2.1 in /home/iviosab/.local/lib/python3.10/site-packages (from spacy->-r ../requirements.txt (line 22)) (6.3.0)\n",
            "Requirement already satisfied: spacy-loggers<2.0.0,>=1.0.0 in /home/iviosab/.local/lib/python3.10/site-packages (from spacy->-r ../requirements.txt (line 22)) (1.0.4)\n",
            "Requirement already satisfied: spacy-legacy<3.1.0,>=3.0.11 in /home/iviosab/.local/lib/python3.10/site-packages (from spacy->-r ../requirements.txt (line 22)) (3.0.12)\n",
            "Requirement already satisfied: pydantic!=1.8,!=1.8.1,<1.11.0,>=1.7.4 in /home/iviosab/.local/lib/python3.10/site-packages (from spacy->-r ../requirements.txt (line 22)) (1.10.4)\n",
            "Requirement already satisfied: setuptools in /usr/lib/python3/dist-packages (from spacy->-r ../requirements.txt (line 22)) (59.6.0)\n",
            "Requirement already satisfied: jinja2 in /home/iviosab/.local/lib/python3.10/site-packages (from spacy->-r ../requirements.txt (line 22)) (3.1.2)\n",
            "Requirement already satisfied: pathy>=0.10.0 in /home/iviosab/.local/lib/python3.10/site-packages (from spacy->-r ../requirements.txt (line 22)) (0.10.1)\n",
            "Requirement already satisfied: thinc<8.2.0,>=8.1.0 in /home/iviosab/.local/lib/python3.10/site-packages (from spacy->-r ../requirements.txt (line 22)) (8.1.7)\n",
            "Requirement already satisfied: spacy-alignments<1.0.0,>=0.7.2 in /home/iviosab/.local/lib/python3.10/site-packages (from spacy-transformers->-r ../requirements.txt (line 23)) (0.9.0)\n",
            "Requirement already satisfied: transformers<4.26.0,>=3.4.0 in /home/iviosab/.local/lib/python3.10/site-packages (from spacy-transformers->-r ../requirements.txt (line 23)) (4.25.1)\n",
            "Requirement already satisfied: llvmlite<0.40,>=0.39.0dev0 in /home/iviosab/.local/lib/python3.10/site-packages (from numba>=0.45.1->librosa->-r ../requirements.txt (line 9)) (0.39.1)\n",
            "Requirement already satisfied: appdirs>=1.3.0 in /usr/lib/python3/dist-packages (from pooch>=1.0->librosa->-r ../requirements.txt (line 9)) (1.4.4)\n",
            "Requirement already satisfied: typing-extensions>=4.2.0 in /home/iviosab/.local/lib/python3.10/site-packages (from pydantic!=1.8,!=1.8.1,<1.11.0,>=1.7.4->spacy->-r ../requirements.txt (line 22)) (4.4.0)\n",
            "Requirement already satisfied: six>=1.5 in /usr/lib/python3/dist-packages (from python-dateutil>=2.8.1->pandas->-r ../requirements.txt (line 15)) (1.16.0)\n",
            "Requirement already satisfied: cffi>=1.0 in /home/iviosab/.local/lib/python3.10/site-packages (from soundfile>=0.10.2->librosa->-r ../requirements.txt (line 9)) (1.15.1)\n",
            "Requirement already satisfied: blis<0.8.0,>=0.7.8 in /home/iviosab/.local/lib/python3.10/site-packages (from thinc<8.2.0,>=8.1.0->spacy->-r ../requirements.txt (line 22)) (0.7.9)\n",
            "Requirement already satisfied: confection<1.0.0,>=0.0.1 in /home/iviosab/.local/lib/python3.10/site-packages (from thinc<8.2.0,>=8.1.0->spacy->-r ../requirements.txt (line 22)) (0.0.4)\n",
            "Requirement already satisfied: nvidia-cublas-cu11==11.10.3.66 in /home/iviosab/.local/lib/python3.10/site-packages (from torch->img2vec_pytorch->-r ../requirements.txt (line 7)) (11.10.3.66)\n",
            "Requirement already satisfied: nvidia-cudnn-cu11==8.5.0.96 in /home/iviosab/.local/lib/python3.10/site-packages (from torch->img2vec_pytorch->-r ../requirements.txt (line 7)) (8.5.0.96)\n",
            "Requirement already satisfied: nvidia-cuda-nvrtc-cu11==11.7.99 in /home/iviosab/.local/lib/python3.10/site-packages (from torch->img2vec_pytorch->-r ../requirements.txt (line 7)) (11.7.99)\n",
            "Requirement already satisfied: nvidia-cuda-runtime-cu11==11.7.99 in /home/iviosab/.local/lib/python3.10/site-packages (from torch->img2vec_pytorch->-r ../requirements.txt (line 7)) (11.7.99)\n",
            "Requirement already satisfied: wheel in /usr/lib/python3/dist-packages (from nvidia-cublas-cu11==11.10.3.66->torch->img2vec_pytorch->-r ../requirements.txt (line 7)) (0.37.1)\n",
            "Requirement already satisfied: pyyaml>=5.1 in /usr/lib/python3/dist-packages (from transformers<4.26.0,>=3.4.0->spacy-transformers->-r ../requirements.txt (line 23)) (5.4.1)\n",
            "Requirement already satisfied: huggingface-hub<1.0,>=0.10.0 in /home/iviosab/.local/lib/python3.10/site-packages (from transformers<4.26.0,>=3.4.0->spacy-transformers->-r ../requirements.txt (line 23)) (0.11.1)\n",
            "Requirement already satisfied: tokenizers!=0.11.3,<0.14,>=0.11.1 in /home/iviosab/.local/lib/python3.10/site-packages (from transformers<4.26.0,>=3.4.0->spacy-transformers->-r ../requirements.txt (line 23)) (0.13.2)\n",
            "Requirement already satisfied: filelock in /home/iviosab/.local/lib/python3.10/site-packages (from transformers<4.26.0,>=3.4.0->spacy-transformers->-r ../requirements.txt (line 23)) (3.9.0)\n",
            "Requirement already satisfied: exceptiongroup>=1.0.0rc9 in /home/iviosab/.local/lib/python3.10/site-packages (from trio~=0.17->selenium>=4.1.0->-r ../requirements.txt (line 21)) (1.1.0)\n",
            "Requirement already satisfied: idna in /usr/lib/python3/dist-packages (from trio~=0.17->selenium>=4.1.0->-r ../requirements.txt (line 21)) (3.3)\n",
            "Requirement already satisfied: sortedcontainers in /home/iviosab/.local/lib/python3.10/site-packages (from trio~=0.17->selenium>=4.1.0->-r ../requirements.txt (line 21)) (2.4.0)\n",
            "Requirement already satisfied: outcome in /home/iviosab/.local/lib/python3.10/site-packages (from trio~=0.17->selenium>=4.1.0->-r ../requirements.txt (line 21)) (1.2.0)\n",
            "Requirement already satisfied: sniffio in /home/iviosab/.local/lib/python3.10/site-packages (from trio~=0.17->selenium>=4.1.0->-r ../requirements.txt (line 21)) (1.3.0)\n",
            "Requirement already satisfied: async-generator>=1.9 in /home/iviosab/.local/lib/python3.10/site-packages (from trio~=0.17->selenium>=4.1.0->-r ../requirements.txt (line 21)) (1.10)\n",
            "Requirement already satisfied: wsproto>=0.14 in /home/iviosab/.local/lib/python3.10/site-packages (from trio-websocket~=0.9->selenium>=4.1.0->-r ../requirements.txt (line 21)) (1.2.0)\n",
            "Requirement already satisfied: PySocks!=1.5.7,<2.0,>=1.5.6 in /home/iviosab/.local/lib/python3.10/site-packages (from urllib3[socks]~=1.26->selenium>=4.1.0->-r ../requirements.txt (line 21)) (1.7.1)\n",
            "Requirement already satisfied: MarkupSafe>=2.0 in /usr/lib/python3/dist-packages (from jinja2->spacy->-r ../requirements.txt (line 22)) (2.0.1)\n",
            "Requirement already satisfied: pycparser in /home/iviosab/.local/lib/python3.10/site-packages (from cffi>=1.0->soundfile>=0.10.2->librosa->-r ../requirements.txt (line 9)) (2.21)\n",
            "Requirement already satisfied: h11<1,>=0.9.0 in /home/iviosab/.local/lib/python3.10/site-packages (from wsproto>=0.14->trio-websocket~=0.9->selenium>=4.1.0->-r ../requirements.txt (line 21)) (0.14.0)\n",
            "Installing collected packages: argparse\n",
            "Successfully installed argparse-1.4.0\n"
          ]
        }
      ],
      "source": [
        "!pip install -r ../requirements.txt"
      ]
    },
    {
      "cell_type": "markdown",
      "id": "158874a2-fb2f-4429-8c13-01457e9767b4",
      "metadata": {
        "id": "158874a2-fb2f-4429-8c13-01457e9767b4"
      },
      "source": [
        "You may skip the next block for now. You will need `ffmpeg` on week 12."
      ]
    },
    {
      "cell_type": "code",
      "execution_count": null,
      "id": "4f337db2-7f6a-4520-b51e-f38f064ed599",
      "metadata": {
        "id": "4f337db2-7f6a-4520-b51e-f38f064ed599"
      },
      "outputs": [],
      "source": [
        "# !conda update -y base conda\n",
        "!conda install -c conda-forge ffmpeg -y"
      ]
    },
    {
      "cell_type": "markdown",
      "id": "06c2f0dd-1d63-412c-ae93-2f012c3d8f0c",
      "metadata": {
        "id": "06c2f0dd-1d63-412c-ae93-2f012c3d8f0c"
      },
      "source": [
        "Run the next cell if you want to download embedding model, but this is not required during this lab. You can do it later."
      ]
    },
    {
      "cell_type": "code",
      "execution_count": null,
      "id": "74fa01d2-dd4d-48d4-a27b-9ae610d9e7ab",
      "metadata": {
        "id": "74fa01d2-dd4d-48d4-a27b-9ae610d9e7ab"
      },
      "outputs": [],
      "source": [
        "!python -m spacy download en_trf_distilbertbaseuncased_lg"
      ]
    },
    {
      "cell_type": "markdown",
      "id": "4ef7bedc-d559-437e-b106-12c860acfbab",
      "metadata": {
        "id": "4ef7bedc-d559-437e-b106-12c860acfbab"
      },
      "source": [
        "# 1. Touching the Internet\n",
        "\n",
        "Solve the following task.\n",
        "1. Download [this page](https://raw.githubusercontent.com/IUCVLab/information-retrieval/main/datasets/facts.txt)\n",
        "2. Save it to the file with the **unique** name derived from the URL. NB File with another URL should not be save into the file with this name. E.g. [this file](https://github.com/IUCVLab/information-retrieval/blob/main/datasets/facts.txt) is another file with another content!\n",
        "\n",
        "Hints:\n",
        "- [requests](https://docs.python-requests.org/en/latest/) library is cool.\n",
        "- [hashlib](https://docs.python.org/3/library/hashlib.html) may help with computing hash strings.\n",
        "- when you download and save the data, don't try to encode and decode it. Use binary format when working with streams and files. <span style=\"color:red\">Discuss with your TA which encodings you know and how they differ</span>."
      ]
    },
    {
      "cell_type": "code",
      "execution_count": 4,
      "id": "639fb2d7-d577-4ae6-beb4-2487213024cf",
      "metadata": {
        "colab": {
          "base_uri": "https://localhost:8080/"
        },
        "id": "639fb2d7-d577-4ae6-beb4-2487213024cf",
        "outputId": "98c14287-a776-49aa-c365-0de72ea1a927"
      },
      "outputs": [
        {
          "data": {
            "text/plain": [
              "199805"
            ]
          },
          "execution_count": 4,
          "metadata": {},
          "output_type": "execute_result"
        }
      ],
      "source": [
        "import requests\n",
        "from hashlib import sha512\n",
        "\n",
        "url1 = \"https://raw.githubusercontent.com/IUCVLab/information-retrieval/main/datasets/facts.txt\"\n",
        "url2 = \"https://github.com/IUCVLab/information-retrieval/blob/main/datasets/facts.txt\"\n",
        "\n",
        "r1 = requests.get(url1)\n",
        "hash_filename1= \"./\" + sha512(url1.encode()).hexdigest() + \".txt\"\n",
        "open(hash_filename1, 'wb').write(r1.content)\n",
        "\n",
        "r2 = requests.get(url2)\n",
        "hash_filename2= \"./\" + sha512(url2.encode()).hexdigest() + \".txt\"\n",
        "open(hash_filename2, 'wb').write(r2.content)\n"
      ]
    },
    {
      "cell_type": "markdown",
      "id": "c7601aaf-3534-42cd-bb33-665d2d92c79d",
      "metadata": {
        "id": "c7601aaf-3534-42cd-bb33-665d2d92c79d"
      },
      "source": [
        "# 2. Parsing different formats\n",
        "\n",
        "Most probably, if you meet something in the Internet, this is one of: binary, plain text, XML, or json. XML then splits into xHTML, RSS, Atom, SOAP, XML-RPC, ... . Your task is to learn, how to process different formats.\n",
        "\n",
        "## 2.1. JSON\n",
        "\n",
        "In [the given file](http://sprotasov.ru/data/postnauka.txt) there is valid json. Parse this file and print all video URLs, which have `computer science` tag. Use built-in features of `requests`, or just a `json` library ([ref](https://docs.python.org/3/library/json.html)).\n",
        "\n",
        "Hint:\n",
        "- if the file has issues with parsing read about [the difference](https://stackoverflow.com/questions/57152985/what-is-the-difference-between-utf-8-and-utf-8-sig)."
      ]
    },
    {
      "cell_type": "code",
      "execution_count": 5,
      "id": "628c2c18-b896-40f9-bac9-2fefc5027da1",
      "metadata": {
        "colab": {
          "base_uri": "https://localhost:8080/"
        },
        "id": "628c2c18-b896-40f9-bac9-2fefc5027da1",
        "outputId": "f1fafe27-5c34-4b9c-cc04-31ecbf3d2e1c"
      },
      "outputs": [
        {
          "name": "stdout",
          "output_type": "stream",
          "text": [
            "http://postnauka.ru/talks/31897\n",
            "http://postnauka.ru/video/24306\n",
            "http://postnauka.ru/faq/46974\n"
          ]
        }
      ],
      "source": [
        "import json\n",
        "import requests\n",
        "\n",
        "url = \"http://sprotasov.ru/data/postnauka.txt\"\n",
        "r = requests.get(url)\n",
        "r.encoding=\"utf-8-sig\"\n",
        "\n",
        "for item in r.json():\n",
        "  if \"computer science\" in item[\"tags\"]:\n",
        "    print(item[\"url\"])"
      ]
    },
    {
      "cell_type": "markdown",
      "id": "a97530a0-46d4-47e3-a7bb-ca479680007d",
      "metadata": {
        "id": "a97530a0-46d4-47e3-a7bb-ca479680007d"
      },
      "source": [
        "## 2.2. HTML\n",
        "\n",
        "For a given StackExchange answer extract logins of the contributors (who asked and who answered) with votes. [bs4](https://beautiful-soup-4.readthedocs.io/en/latest/) will help you to do the job.\n",
        "\n",
        "I can recommend to use CSS or XPath selectors. `div` elements with `post-layout` class represent answers. Inside there are `div` with `votecell` class stroring votes number and `div` with class `user-details` storing user info. My personal recommendation is to use `css selectors`, which are [documented here](https://beautiful-soup-4.readthedocs.io/en/latest/#css-selectors)."
      ]
    },
    {
      "cell_type": "code",
      "execution_count": 6,
      "id": "e67db473-a8f0-414c-adbc-ce0e9e4710bc",
      "metadata": {
        "colab": {
          "base_uri": "https://localhost:8080/"
        },
        "id": "e67db473-a8f0-414c-adbc-ce0e9e4710bc",
        "outputId": "a40173df-9630-4b0c-faaf-c8fa5a31b8ad"
      },
      "outputs": [
        {
          "name": "stdout",
          "output_type": "stream",
          "text": [
            "(['Rodrigo de Azevedo', 'Celdor'], 23)\n",
            "(['Ittay Weiss'], 17)\n",
            "(['Tomasz Bartkowiak'], 10)\n",
            "(['Bart Vanderbeke'], 4)\n",
            "(['Bart Vanderbeke'], 3)\n",
            "(['hgfei'], 2)\n",
            "(['littleO'], 1)\n",
            "(['TheSHETTY-Paradise'], 1)\n"
          ]
        }
      ],
      "source": [
        "import requests\n",
        "from bs4 import BeautifulSoup\n",
        "\n",
        "url = \"https://math.stackexchange.com/questions/411486/\"\\\n",
        "        \"understanding-the-singular-value-decomposition-svd\"\n",
        "r = requests.get(url)\n",
        "soup = BeautifulSoup(r.content)\n",
        "mydivs = soup.find_all(\"div\", {\"class\": \"post-layout\"})\n",
        "for div in mydivs:\n",
        "  votes = div.find_all(\"div\", {\"class\": \"js-vote-count\"})[0].getText().strip()\n",
        "  users = div.find_all(\"div\", {\"class\": \"user-details\"})\n",
        "  names = []\n",
        "  for user in users:\n",
        "    name = user.find('a')\n",
        "    if name:\n",
        "      names.append(name.getText())\n",
        "\n",
        "  print(f\"({names}, {votes})\")\n",
        "  "
      ]
    },
    {
      "cell_type": "markdown",
      "id": "6708766b-0db3-4062-87a1-9ba96c60440b",
      "metadata": {
        "id": "6708766b-0db3-4062-87a1-9ba96c60440b"
      },
      "source": [
        "# 2.3. RSS feed\n",
        "\n",
        "A lot of information is already organized in typed XML documents. Podcasts, for example, are just RSS feed. Parse [the feed of this podcast](http://sprotasov.ru/podcast/rss.xml) and print out:\n",
        "- the number of episodes\n",
        "- the length of the time span between the first and the last episodes (in days).\n",
        "\n",
        "Use [`feedparser` library for this](https://waylonwalker.com/parsing-rss-python/)."
      ]
    },
    {
      "cell_type": "code",
      "execution_count": 7,
      "id": "2090f810-d706-4bb2-8c85-d485a48432a1",
      "metadata": {
        "colab": {
          "base_uri": "https://localhost:8080/"
        },
        "id": "2090f810-d706-4bb2-8c85-d485a48432a1",
        "outputId": "2e02ba40-8731-4d06-95c7-f0a46c21a387"
      },
      "outputs": [
        {
          "name": "stdout",
          "output_type": "stream",
          "text": [
            "dict_keys(['title', 'title_detail', 'summary', 'summary_detail', 'content', 'links', 'tags', 'published', 'published_parsed', 'itunes_duration', 'id', 'guidislink'])\n",
            "time.struct_time(tm_year=2022, tm_mon=11, tm_mday=14, tm_hour=18, tm_min=25, tm_sec=0, tm_wday=0, tm_yday=318, tm_isdst=0)\n",
            "Number of episodes: 18\n",
            "Span of time between first and last episodes: 2030 days\n"
          ]
        }
      ],
      "source": [
        "import feedparser\n",
        "from datetime import datetime\n",
        "\n",
        "rss = 'http://sprotasov.ru/podcast/rss.xml'\n",
        "parsed = feedparser.parse(rss) \n",
        "print(parsed.entries[0].keys())\n",
        "print(parsed.entries[0]['published_parsed'])\n",
        "episodes = len(parsed.entries)\n",
        "\n",
        "first_date = parsed.entries[-1]['published']\n",
        "last_date = parsed.entries[0]['published']\n",
        "\n",
        "#Ref: https://pynative.com/python-datetime-format-strftime/\n",
        "#Ref: https://pynative.com/python-difference-between-two-dates/#how-to-measure-execution-time-in-python\n",
        "\n",
        "formats = [\"%a, %d %b %Y %H:%M:%S %z\", \"%A, %d %b %Y %H:%M:%S %z\", \"%a, %d %B %Y %H:%M:%S %z\", \"%A, %d %B %Y %H:%M:%S %z\"]\n",
        "for format in formats: \n",
        "  #first date\n",
        "  try:\n",
        "    d1 = datetime.strptime(first_date, format)\n",
        "  except ValueError: \n",
        "    pass \n",
        "\n",
        "  #last date\n",
        "  try:\n",
        "    d2 = datetime.strptime(last_date, format)\n",
        "  except ValueError: \n",
        "    pass \n",
        "\n",
        "span = d2-d1\n",
        "\n",
        "#Number of episodes\n",
        "print(f'Number of episodes: {episodes}')\n",
        "#length of time between first and last episodes in days\n",
        "print(f'Span of time between first and last episodes: {span.days} days')"
      ]
    },
    {
      "cell_type": "markdown",
      "id": "3a7a63b1-c106-4a13-8e55-9240e9c8418f",
      "metadata": {
        "id": "3a7a63b1-c106-4a13-8e55-9240e9c8418f"
      },
      "source": [
        "# 3. [EXTRA TASK] Solving simple information retrieval task\n",
        "\n",
        "According to the name, `information retrieval` is the discipline, which helps retrieves information (from unstructured sources). Thus, we will retrieve some information from [this news article](https://www.bbc.com/news/world-us-canada-59944889). Your task is to write a code, which will answer the question: **How many people die every day in the US waiting for a transplant?** Write flexible enough code. Test yourself by changing the link to [this one](https://www.americantransplantfoundation.org/about-transplant/facts-and-myths/)."
      ]
    },
    {
      "cell_type": "code",
      "execution_count": null,
      "id": "7660c706-371b-4050-aede-e4b3e4014ce1",
      "metadata": {
        "id": "7660c706-371b-4050-aede-e4b3e4014ce1"
      },
      "outputs": [],
      "source": [
        "import requests\n",
        "url = 'https://www.bbc.com/news/world-us-canada-59944889'\n",
        "url2 = 'https://www.americantransplantfoundation.org/about-transplant/facts-and-myths/'\n",
        "\n",
        "question = 'How many people die every day in the US waiting for a transplant?'\n",
        "\n",
        "# TODO. Impress me!"
      ]
    }
  ],
  "metadata": {
    "colab": {
      "provenance": []
    },
    "kernelspec": {
      "display_name": "Python 3",
      "language": "python",
      "name": "python3"
    },
    "language_info": {
      "codemirror_mode": {
        "name": "ipython",
        "version": 3
      },
      "file_extension": ".py",
      "mimetype": "text/x-python",
      "name": "python",
      "nbconvert_exporter": "python",
      "pygments_lexer": "ipython3",
      "version": "3.10.6"
    },
    "vscode": {
      "interpreter": {
        "hash": "916dbcbb3f70747c44a77c7bcd40155683ae19c65e1c03b4aa3499c5328201f1"
      }
    }
  },
  "nbformat": 4,
  "nbformat_minor": 5
}
