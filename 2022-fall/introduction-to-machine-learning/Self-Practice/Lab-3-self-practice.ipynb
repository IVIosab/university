{
    "cells": [
        {
            "cell_type": "markdown",
            "metadata": {},
            "source": [
                "### Lab-3 : Self-Practice\n",
                "\n",
                "#### In this week, your self-practice task will consist to analyze the impact of class imballance on the performance of the logistic regression model.\n",
                "\n",
                "#### Class imbalance is very common in real life. For example, in a classification problem to predict whether a person has a certain very rare disease, the dataset will always contain more negative samples than positive ones. This situation can have a significant impact on the performance of the model. You will analyze this situation in the case of the Titanic dataset used in the lab."
            ]
        },
        {
            "cell_type": "markdown",
            "metadata": {},
            "source": [
                "### 1. Load the titanic dataset and <b>PLOT</b> the proportion of positive and negative samples (survived vs non survived)"
            ]
        },
        {
            "cell_type": "code",
            "execution_count": 13,
            "metadata": {},
            "outputs": [
                {
                    "data": {
                        "image/png": "[encoded data removed]",
                        "text/plain": [
                            "<Figure size 432x288 with 1 Axes>"
                        ]
                    },
                    "metadata": {
                        "needs_background": "light"
                    },
                    "output_type": "display_data"
                },
                {
                    "data": {
                        "text/plain": [
                            "809"
                        ]
                    },
                    "execution_count": 13,
                    "metadata": {},
                    "output_type": "execute_result"
                }
            ],
            "source": [
                "### write your code here. Load the dataset and plot (barplot) proportion of each class \n",
                "import pandas as pd\n",
                "import matplotlib.pyplot as plt\n",
                "\n",
                "df = pd.read_csv('titanic.csv')\n",
                "survived = df.survived.value_counts()[1]\n",
                "died = df.survived.value_counts()[0]\n",
                "plt.bar(['Survived', 'Died'], [survived,died])\n",
                "plt.show()\n",
                "died"
            ]
        },
        {
            "cell_type": "markdown",
            "metadata": {},
            "source": [
                "#### Preprocess the data as it has been done in the lab, feel free to adapt"
            ]
        },
        {
            "cell_type": "code",
            "execution_count": 14,
            "metadata": {},
            "outputs": [
                {
                    "name": "stdout",
                    "output_type": "stream",
                    "text": [
                        "% of positive samples in whole data: 0.3819709702062643\n",
                        "% of positive samples in train set: 0.38204393505253104\n",
                        "% of positive samples in test set: 0.3816793893129771\n"
                    ]
                }
            ],
            "source": [
                "#### preprocess the data\n",
                "from sklearn.model_selection import train_test_split\n",
                "df = df.drop(['name'], axis = 1)\n",
                "# find and print the proportion of positive samples in data\n",
                "vc = df.survived.value_counts()\n",
                "print(vc)\n",
                "precnetage = vc[1]/(vc[0]+vc[1])\n",
                "print('% of positive samples in whole data:', precnetage)\n",
                "X = df.drop('survived',axis=1)\n",
                "y = df.survived\n",
                "# split data\n",
                "x_train, x_test, y_train, y_test = train_test_split(X,y,test_size=0.2,stratify=y)\n",
                "\n",
                "p_train = y_train.value_counts()[1]/(y_train.value_counts()[1]+y_train.value_counts()[0])\n",
                "p_test = y_test.value_counts()[1]/(y_test.value_counts()[1]+y_test.value_counts()[0])\n",
                "# find and print the proportion of positive samples in train and test sets, make sure they are approx same\n",
                "print('% of positive samples in train set:', p_train)\n",
                "print('% of positive samples in test set:', p_test)"
            ]
        },
        {
            "cell_type": "code",
            "execution_count": 20,
            "metadata": {},
            "outputs": [],
            "source": [
                "\n",
                "from sklearn.impute import SimpleImputer\n",
                "from sklearn.preprocessing import OneHotEncoder\n",
                "from sklearn.preprocessing import MinMaxScaler\n",
                "\n",
                "def process_data(x_train, x_test):\n",
                "    # imputing missing values\n",
                "    imputer = SimpleImputer(strategy='most_frequent')\n",
                "    imputer.fit(x_train)\n",
                "    x_train = pd.DataFrame(imputer.transform(x_train), columns=x_train.columns)\n",
                "    x_test = pd.DataFrame(imputer.transform(x_test), columns=x_test.columns)\n",
                "\n",
                "    # one-hot-encode categorical features\n",
                "    def ohe_new_features(df, features_name, encoder):\n",
                "        new_feats = encoder.transform(df[features_name])\n",
                "        # create dataframe from encoded features with named columns\n",
                "        new_cols = pd.DataFrame(new_feats, dtype=int, columns=encoder.get_feature_names(features_name))\n",
                "        new_df = pd.concat([df, new_cols], axis=1)    \n",
                "        new_df.drop(features_name, axis=1, inplace=True)\n",
                "        return new_df\n",
                "\n",
                "    encoder = OneHotEncoder(sparse=False, drop='first')\n",
                "    f_names = ['sex', 'embarked']\n",
                "    encoder.fit(x_train[f_names])\n",
                "    x_train = ohe_new_features(x_train, f_names, encoder)\n",
                "    x_test = ohe_new_features(x_test, f_names, encoder)\n",
                "\n",
                "    # feature scaling\n",
                "    scaler = MinMaxScaler()\n",
                "    scaler.fit(x_train)\n",
                "    x_train = pd.DataFrame(scaler.transform(x_train), columns=x_train.columns)\n",
                "    x_test = pd.DataFrame(scaler.transform(x_test), columns=x_test.columns)\n",
                "    return x_train, x_test"
            ]
        },
        {
            "cell_type": "markdown",
            "metadata": {},
            "source": [
                "## 2. Impact of class imballance. \n",
                "##### Now, you will `artificially` imbalance the dataset. From the original dataset, create different dataset with the following class representations (drop samples from one class): \n",
                "##### 1. 20% vs 80%\n",
                "##### 2. 30% vs 70%\n",
                "##### 3. 40% vs 60%\n",
                "\n",
                "## Split each data into train and test set as in the lab; train logistic regression model for each setting and report (PLOT) the accuracy, precision, and recall of each model"
            ]
        },
        {
            "cell_type": "code",
            "execution_count": 25,
            "metadata": {},
            "outputs": [
                {
                    "name": "stderr",
                    "output_type": "stream",
                    "text": [
                        "d:\\Program Files\\anaconda\\lib\\site-packages\\sklearn\\utils\\deprecation.py:87: FutureWarning: Function get_feature_names is deprecated; get_feature_names is deprecated in 1.0 and will be removed in 1.2. Please use get_feature_names_out instead.\n",
                        "  warnings.warn(msg, category=FutureWarning)\n",
                        "d:\\Program Files\\anaconda\\lib\\site-packages\\sklearn\\utils\\deprecation.py:87: FutureWarning: Function get_feature_names is deprecated; get_feature_names is deprecated in 1.0 and will be removed in 1.2. Please use get_feature_names_out instead.\n",
                        "  warnings.warn(msg, category=FutureWarning)\n",
                        "d:\\Program Files\\anaconda\\lib\\site-packages\\sklearn\\utils\\deprecation.py:87: FutureWarning: Function get_feature_names is deprecated; get_feature_names is deprecated in 1.0 and will be removed in 1.2. Please use get_feature_names_out instead.\n",
                        "  warnings.warn(msg, category=FutureWarning)\n",
                        "d:\\Program Files\\anaconda\\lib\\site-packages\\sklearn\\utils\\deprecation.py:87: FutureWarning: Function get_feature_names is deprecated; get_feature_names is deprecated in 1.0 and will be removed in 1.2. Please use get_feature_names_out instead.\n",
                        "  warnings.warn(msg, category=FutureWarning)\n",
                        "d:\\Program Files\\anaconda\\lib\\site-packages\\sklearn\\utils\\deprecation.py:87: FutureWarning: Function get_feature_names is deprecated; get_feature_names is deprecated in 1.0 and will be removed in 1.2. Please use get_feature_names_out instead.\n",
                        "  warnings.warn(msg, category=FutureWarning)\n",
                        "d:\\Program Files\\anaconda\\lib\\site-packages\\sklearn\\utils\\deprecation.py:87: FutureWarning: Function get_feature_names is deprecated; get_feature_names is deprecated in 1.0 and will be removed in 1.2. Please use get_feature_names_out instead.\n",
                        "  warnings.warn(msg, category=FutureWarning)\n"
                    ]
                },
                {
                    "data": {
                        "image/png": "[encoded data removed]",
                        "text/plain": [
                            "<Figure size 432x288 with 1 Axes>"
                        ]
                    },
                    "metadata": {
                        "needs_background": "light"
                    },
                    "output_type": "display_data"
                }
            ],
            "source": [
                "### write your code here \n",
                "from sklearn.linear_model import LogisticRegression\n",
                "from sklearn.model_selection import train_test_split\n",
                "from sklearn import metrics\n",
                "from sklearn.utils import shuffle\n",
                "import numpy as np\n",
                "accuracies = []\n",
                "precisions = []\n",
                "recalls = []\n",
                "y_pred_counts = []\n",
                "true_counts = []\n",
                "def train_and_test(X,y):\n",
                "    x_train, x_test, y_train, y_test = train_test_split(X, y, test_size= 0.2, stratify=y)\n",
                "    x_train, x_test = process_data(x_train, x_test)\n",
                "    x_train, y_train = shuffle(x_train, y_train)\n",
                "    model = LogisticRegression().fit(x_train, y_train)\n",
                "    y_pred = model.predict(x_test)\n",
                "    y_pred_counts.append(np.unique(y_pred, return_counts=True))\n",
                "    true_counts.append(np.unique(y_test, return_counts=True))\n",
                "    accuracy = metrics.accuracy_score(y_test,y_pred)\n",
                "    precision = metrics.precision_score(y_test, y_pred)\n",
                "    recall = metrics.recall_score(y_test,y_pred)\n",
                "    accuracies.append(accuracy)\n",
                "    precisions.append(precision)\n",
                "    recalls.append(recall)\n",
                "survived_rows = df[df['survived'] == 1]\n",
                "died_rows = df[df['survived'] == 0]\n",
                "precentages = [[0.2, 0.8], [0.3, 0.7], [0.37,0.6]]\n",
                "for i in precentages:\n",
                "    s = int((i[0]*died)/i[1])\n",
                "    data = pd.concat([survived_rows[:s], died_rows],axis=0)\n",
                "    X = data.drop('survived',axis=1)\n",
                "    y = data.survived\n",
                "    train_and_test(X, y)\n",
                "splits = [\"20 vs 80\", \"30 vs 70\", \"40 vs 60\"]\n",
                "plt.plot(splits, accuracies, label = 'accuracy')   \n",
                "plt.plot(splits, precisions, label = 'precision')   \n",
                "plt.plot(splits, recalls, label = 'recall')\n",
                "plt.legend()\n",
                "plt.show()"
            ]
        },
        {
            "cell_type": "markdown",
            "metadata": {},
            "source": [
                "## 3. Analyse the class-wise accuracy. \n",
                "#### For each model, plot (bar plots) the class-wise accuracy, i.e., the accuracy for each class."
            ]
        },
        {
            "cell_type": "code",
            "execution_count": 34,
            "metadata": {},
            "outputs": [
                {
                    "name": "stdout",
                    "output_type": "stream",
                    "text": [
                        "[(array([0, 1], dtype=int64), array([172,  31], dtype=int64)), (array([0, 1], dtype=int64), array([180,  51], dtype=int64)), (array([0, 1], dtype=int64), array([169,  93], dtype=int64))]\n",
                        "[(array([0, 1], dtype=int64), array([162,  41], dtype=int64)), (array([0, 1], dtype=int64), array([162,  69], dtype=int64)), (array([0, 1], dtype=int64), array([162, 100], dtype=int64))]\n"
                    ]
                },
                {
                    "data": {
                        "image/png": "[encoded data removed]",
                        "text/plain": [
                            "<Figure size 432x288 with 1 Axes>"
                        ]
                    },
                    "metadata": {
                        "needs_background": "light"
                    },
                    "output_type": "display_data"
                }
            ],
            "source": [
                "#### write your code \n",
                "accuracies = []\n",
                "for i in range(3):\n",
                "    survived_pred = y_pred_counts[i][1][0]\n",
                "    survived_true = true_counts[i][1][0]\n",
                "    died_pred = y_pred_counts[i][1][1]\n",
                "    died_true = true_counts[i][1][1]\n",
                "    accuracies.append(survived_pred/survived_true)\n",
                "    accuracies.append(died_pred/died_true)\n",
                "print(y_pred_counts)\n",
                "print(true_counts)\n",
                "plt.bar([\"d 20 vs 80\", \"s 20 vs 80\", \"d 30 vs 70\", \"s 30 vs 70\", \"d 40 vs 60\", \"s 40 vs 60\"], accuracies)\n",
                "plt.show()"
            ]
        },
        {
            "cell_type": "markdown",
            "metadata": {},
            "source": [
                "## 4. Report \n",
                "### Write a small report (few sentences) to discuss from your analysis, the impact of class imballance on logistic model's performance "
            ]
        },
        {
            "cell_type": "markdown",
            "metadata": {},
            "source": [
                "`Write your report here`\n",
                "First we have to note that the values before the artifitial class imbalance was:\n",
                "Accuracy: 0.8091603053435115\n",
                "Precision: 0.7\n",
                "Recall: 0.7777777777777778\n",
                "\n",
                "20 vs 80\n",
                "\n",
                "In this case if the model output 0 all the time, it will get 80% accuracy. But in our case, it is trained which mean it can preform better and predect the survived class slightly better which increases the accuracy dramaticaly to +0.95\n",
                "\n",
                "in this case also, the FP will not be a big number which mean we will have high precision\n",
                "\n",
                "However, since the model tends to always predict 0, it will have alot of FN values which leads to lower recall\n",
                "\n",
                "30 vs 70\n",
                "\n",
                "By increasing the number of survived samples the model will have less accuracy and precision due to the increase in the FP which comes from the fact that the model can't fit will this class due to the small number of samples in the training dataset\n",
                "\n"
            ]
        },
        {
            "cell_type": "markdown",
            "metadata": {},
            "source": []
        }
    ],
    "metadata": {
        "kernelspec": {
            "display_name": "Python 3.8.8",
            "language": "python",
            "name": "python3"
        },
        "language_info": {
            "codemirror_mode": {
                "name": "ipython",
                "version": 3
            },
            "file_extension": ".py",
            "mimetype": "text/x-python",
            "name": "python",
            "nbconvert_exporter": "python",
            "pygments_lexer": "ipython3",
            "version": "3.8.8"
        },
        "orig_nbformat": 4,
        "vscode": {
            "interpreter": {
                "hash": "910b85ef1bbfade0bcd650dab6621c5db4e225a293fa25f6b497d49efafd687a"
            }
        }
    },
    "nbformat": 4,
    "nbformat_minor": 2
}
