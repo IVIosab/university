{
 "cells": [
  {
   "cell_type": "markdown",
   "id": "726437f1-9589-4fd2-8cfc-26f5ac0a7610",
   "metadata": {},
   "source": [
    "# Flightradar analysis\n",
    "\n",
    "In this task we will use https://www.flightradar24.com/ website to monitor airplanes near Innopolis. For this we will use some information from URL, and from moving airplane items. Let's have fun with airplanes!\n",
    "\n",
    "**NB:** This lab is designed to be executed **locally** at your laptop, as it launches local application (browser). Indeed, headless mode can be used in colab, but this would also require specific browser installation steps. Thus, please use Anaconda."
   ]
  },
  {
   "cell_type": "markdown",
   "id": "c94b20b2-4287-47b2-bd02-95fd88d9dd39",
   "metadata": {},
   "source": [
    "## Dependency installation\n",
    "\n",
    "Let's try to load and parse the page the way we did before:"
   ]
  },
  {
   "cell_type": "code",
   "execution_count": 1,
   "id": "8bc16fb2-c56f-4d77-b0d0-8e3dfb9019d3",
   "metadata": {},
   "outputs": [
    {
     "name": "stdout",
     "output_type": "stream",
     "text": [
      "Status: 451\n"
     ]
    }
   ],
   "source": [
    "import requests\n",
    "from bs4 import BeautifulSoup\n",
    "resp = requests.get(\"https://www.flightradar24.com/\")\n",
    "print(\"Status:\", resp.status_code)"
   ]
  },
  {
   "cell_type": "markdown",
   "id": "d3cd4a96-6c46-4f55-b025-224bef8c2760",
   "metadata": {},
   "source": [
    "Wowowow! https://developer.mozilla.org/en-US/docs/Web/HTTP/Status/451 :\n",
    "\n",
    "```\n",
    "The HyperText Transfer Protocol (HTTP) '451 Unavailable For Legal Reasons' client error response code indicates that the user requested a resource that is not available due to legal reasons, such as a web page for which a legal action has been issued.\n",
    "```\n",
    "\n",
    "As we see, the output is not what we would expect. So, what can we do when a page is not being loaded right away, but is rather rendered by a script, and only in a valid browser? Browser engines can help us getting the data. Let's try to load the same web page, but do it in a different way: let's give a browser some time to load the scripts and run them. And then we will work with DOM (Document Object Model), but we will obtain this DOM from the browser engine itself, not via `BeautifulSoup`.\n",
    "\n",
    "Where do we get browser engine from? Simply installing a browser will do the thing. How do we send commands to it from the code, and retrieve the DOM? Service applications called `drivers` will interpret commands and translate them into browser actions.\n",
    "\n",
    "For each supported browser engine you will need to:\n",
    "1. install browser itself;\n",
    "2. download 'driver' - binary executable, which passed commands from selenium to browser. E.g. [Gecko = Firefox](https://github.com/mozilla/geckodriver/releases), [ChromeDriver](http://chromedriver.storage.googleapis.com/index.html);\n",
    "3. unpack driver into a folder under PATH environment variable. Or specify exact binary location when you write the code.\n",
    "\n",
    "### Download driver\n",
    "\n",
    "And place it in any folder or under PATH env. variable. [Firefox](https://github.com/mozilla/geckodriver/releases), [Chrome](http://chromedriver.storage.googleapis.com/index.html)\n",
    "\n",
    "### Install selenium\n",
    "\n",
    "Selenium is a powerful tool for automated UI testing. We will use it to emulate used actions with the website."
   ]
  },
  {
   "cell_type": "code",
   "execution_count": 4,
   "id": "ad70a604-60bf-4b2d-a84c-6306fc2644dc",
   "metadata": {},
   "outputs": [
    {
     "name": "stdout",
     "output_type": "stream",
     "text": [
      "Collecting selenium\n",
      "  Using cached selenium-4.8.0-py3-none-any.whl (6.3 MB)\n",
      "Collecting trio-websocket~=0.9\n",
      "  Using cached trio_websocket-0.9.2-py3-none-any.whl (16 kB)\n",
      "Requirement already satisfied: urllib3[socks]~=1.26 in /home/iviosab/anaconda3/lib/python3.9/site-packages (from selenium) (1.26.11)\n",
      "Collecting trio~=0.17\n",
      "  Using cached trio-0.22.0-py3-none-any.whl (384 kB)\n",
      "Requirement already satisfied: certifi>=2021.10.8 in /home/iviosab/anaconda3/lib/python3.9/site-packages (from selenium) (2022.9.14)\n",
      "Collecting exceptiongroup>=1.0.0rc9\n",
      "  Using cached exceptiongroup-1.1.0-py3-none-any.whl (14 kB)\n",
      "Collecting outcome\n",
      "  Using cached outcome-1.2.0-py2.py3-none-any.whl (9.7 kB)\n",
      "Collecting async-generator>=1.9\n",
      "  Using cached async_generator-1.10-py3-none-any.whl (18 kB)\n",
      "Requirement already satisfied: sortedcontainers in /home/iviosab/anaconda3/lib/python3.9/site-packages (from trio~=0.17->selenium) (2.4.0)\n",
      "Requirement already satisfied: sniffio in /home/iviosab/anaconda3/lib/python3.9/site-packages (from trio~=0.17->selenium) (1.2.0)\n",
      "Requirement already satisfied: attrs>=19.2.0 in /home/iviosab/anaconda3/lib/python3.9/site-packages (from trio~=0.17->selenium) (21.4.0)\n",
      "Requirement already satisfied: idna in /home/iviosab/anaconda3/lib/python3.9/site-packages (from trio~=0.17->selenium) (3.3)\n",
      "Collecting wsproto>=0.14\n",
      "  Using cached wsproto-1.2.0-py3-none-any.whl (24 kB)\n",
      "Requirement already satisfied: PySocks!=1.5.7,<2.0,>=1.5.6 in /home/iviosab/anaconda3/lib/python3.9/site-packages (from urllib3[socks]~=1.26->selenium) (1.7.1)\n",
      "Collecting h11<1,>=0.9.0\n",
      "  Using cached h11-0.14.0-py3-none-any.whl (58 kB)\n",
      "Installing collected packages: outcome, h11, exceptiongroup, async-generator, wsproto, trio, trio-websocket, selenium\n",
      "Successfully installed async-generator-1.10 exceptiongroup-1.1.0 h11-0.14.0 outcome-1.2.0 selenium-4.8.0 trio-0.22.0 trio-websocket-0.9.2 wsproto-1.2.0\n"
     ]
    }
   ],
   "source": [
    "!pip install -U selenium"
   ]
  },
  {
   "cell_type": "markdown",
   "id": "cf482cdf-b48d-416a-8ae3-83711df870e6",
   "metadata": {},
   "source": [
    "Check it works"
   ]
  },
  {
   "cell_type": "code",
   "execution_count": 16,
   "id": "c7b848cb-12df-49ab-93d0-d3c9be73750a",
   "metadata": {},
   "outputs": [],
   "source": [
    "from selenium import webdriver"
   ]
  },
  {
   "cell_type": "markdown",
   "id": "50821f49-e572-45bd-bd07-a639e5353637",
   "metadata": {},
   "source": [
    "### Launch browser\n",
    "\n",
    "This will open a browser window"
   ]
  },
  {
   "cell_type": "code",
   "execution_count": 43,
   "id": "22e8e59d-7b26-42e1-97d6-d54046100412",
   "metadata": {},
   "outputs": [
    {
     "name": "stderr",
     "output_type": "stream",
     "text": [
      "/tmp/ipykernel_201609/2727098500.py:7: DeprecationWarning: executable_path has been deprecated, please pass in a Service object\n",
      "  browser = webdriver.Chrome(executable_path=\"/home/iviosab/Downloads/drivers/chromedriver\")\n"
     ]
    }
   ],
   "source": [
    "# browser = webdriver.Firefox()\n",
    "# or explicitly\n",
    "# browser = webdriver.Firefox(\n",
    "#     executable_path='C:/bin/geckodriver.exe', \n",
    "#     firefox_binary='C:/Program Files/Mozilla Firefox/firefox.exe'\n",
    "# )\n",
    "browser = webdriver.Chrome(executable_path=\"/home/iviosab/Downloads/drivers/chromedriver\")"
   ]
  },
  {
   "cell_type": "markdown",
   "id": "568732b0-c333-4197-9e34-c2d31b9271e7",
   "metadata": {},
   "source": [
    "### Download the page ... again"
   ]
  },
  {
   "cell_type": "code",
   "execution_count": 44,
   "id": "393e503a-637a-4777-99c4-863ca127e158",
   "metadata": {},
   "outputs": [
    {
     "name": "stdout",
     "output_type": "stream",
     "text": [
      "Elements found: 43\n"
     ]
    }
   ],
   "source": [
    "from selenium.webdriver.common.by import By\n",
    "\n",
    "# navigate to page\n",
    "browser.get('https://www.flightradar24.com/')\n",
    "browser.implicitly_wait(10)  # wait for 10 seconds\n",
    "\n",
    "# select all visible airplanes from document\n",
    "elements = browser.find_elements(By.CSS_SELECTOR, \"div[role=button]\")\n",
    "# note that if number differs from launch to launch this means better extend wait time\n",
    "print(\"Elements found:\", len(elements))"
   ]
  },
  {
   "cell_type": "markdown",
   "id": "d15b0881-78d7-4702-bddc-9e8da62eb35a",
   "metadata": {},
   "source": [
    "### Preparatory functions\n",
    "\n",
    "We will center our map around Innopolis, and choose one of the suitable scales."
   ]
  },
  {
   "cell_type": "code",
   "execution_count": 45,
   "id": "025c45bc-60c3-459a-9ff1-7af0e10c1a58",
   "metadata": {},
   "outputs": [],
   "source": [
    "innopolis = \"55.75,48.75\"\n",
    "scale = 9\n",
    "\n",
    "\n",
    "def scale_km_per_px(scale):\n",
    "    return 2 ** 8 / 3 / (2 ** scale)\n",
    "\n",
    "\n",
    "def dist(a, b):\n",
    "    return ((a[0] - b[0]) ** 2 + (a[1] - b[1]) ** 2) ** .5"
   ]
  },
  {
   "cell_type": "markdown",
   "id": "1c5fafc5-d165-4fff-a764-f3ed1bfefc62",
   "metadata": {},
   "source": [
    "## Solving the problem\n",
    "\n",
    "### Obtain center coordinates\n",
    "\n",
    "First task is to get pixel coordinates of the screen center. You are given a browser instance object. And we are interested, what is the size of the rendered page (NB not the window!)? For this you will do the following:\n",
    "1. find the root `html` tag by tag name. Refer of [`find_element` documentation](https://selenium-python.readthedocs.io/locating-elements.html) and [`By` options](https://www.selenium.dev/selenium/docs/api/py/webdriver/selenium.webdriver.common.by.html).\n",
    "2. Extract **attribute** values of this tag. We are interested in `clientWidth` and `clientHeight`. [See this doc](https://selenium-python.readthedocs.io/api.html#selenium.webdriver.remote.webelement.WebElement.get_attribute) for usage.\n",
    "3. Divide these values by 2 and return as a tuple."
   ]
  },
  {
   "cell_type": "code",
   "execution_count": 46,
   "id": "8510b43e-81d8-4479-a75c-4d7de2114870",
   "metadata": {},
   "outputs": [
    {
     "name": "stdout",
     "output_type": "stream",
     "text": [
      "(432.0, 431.0)\n"
     ]
    }
   ],
   "source": [
    "def get_center_point(browser):\n",
    "    html = browser.find_element(By.TAG_NAME, \"html\")\n",
    "    inner_width = int(html.get_attribute(\"clientWidth\"))\n",
    "    inner_height = int(html.get_attribute(\"clientHeight\"))\n",
    "    # in center\n",
    "    innopolis_px = (inner_width / 2, inner_height / 2)\n",
    "    return innopolis_px\n",
    "\n",
    "print(get_center_point(browser))\n"
   ]
  },
  {
   "cell_type": "markdown",
   "id": "cafbd055-0e4b-4fc3-a11f-b4ac7de5349f",
   "metadata": {},
   "source": [
    "### Catching the airplane\n",
    "\n",
    "This code will search for airplane and airport images and their coordinates on the map. Your task is to complete the check if this icon is an airport, or an airplane.\n",
    "\n",
    "Airport example:\n",
    "\n",
    "```\n",
    "<div style=\"width: 20px; height: 20px; overflow: hidden; position: absolute; cursor: pointer; touch-action: none; left: 131px; top: -89px; z-index: 1090430;\" title=\"Yoshkar-Ola Airport (JOK/UWKJ)\" aria-label=\"Yoshkar-Ola Airport (JOK/UWKJ)\" role=\"button\" tabindex=\"0\">...</div>\n",
    "```\n",
    "\n",
    "Airplane example:\n",
    "\n",
    "```\n",
    "<div style=\"width: 33px; height: 33px; overflow: hidden; position: absolute; cursor: pointer; touch-action: none; left: -30px; top: 17px; z-index: 1031004;\" title=\"\" role=\"button\" tabindex=\"-1\">...</div>\n",
    "```\n",
    "\n",
    "Again, I think [get_attribute(...) call](https://selenium-python.readthedocs.io/api.html#selenium.webdriver.remote.webelement.WebElement.get_attribute) can help in distinguishing these."
   ]
  },
  {
   "cell_type": "code",
   "execution_count": 48,
   "id": "2aa560df-d6e8-4a59-8499-1305cacf5f3d",
   "metadata": {},
   "outputs": [
    {
     "name": "stdout",
     "output_type": "stream",
     "text": [
      "([<selenium.webdriver.remote.webelement.WebElement (session=\"54d294bb9734bd5d77fc4ad4ac762ae1\", element=\"3f23da0a-c094-424a-85bc-70195ae404ff\")>, <selenium.webdriver.remote.webelement.WebElement (session=\"54d294bb9734bd5d77fc4ad4ac762ae1\", element=\"db7f291d-653d-4e3e-8dde-48cc3a2af6ba\")>, <selenium.webdriver.remote.webelement.WebElement (session=\"54d294bb9734bd5d77fc4ad4ac762ae1\", element=\"9dd7686d-2d9f-4f0e-9d59-aebf54085b6d\")>, <selenium.webdriver.remote.webelement.WebElement (session=\"54d294bb9734bd5d77fc4ad4ac762ae1\", element=\"356db202-fd83-4501-ad01-ec552ab10f83\")>, <selenium.webdriver.remote.webelement.WebElement (session=\"54d294bb9734bd5d77fc4ad4ac762ae1\", element=\"ec35a3e5-f09e-41d1-a8fb-6353eb3d6ba7\")>, <selenium.webdriver.remote.webelement.WebElement (session=\"54d294bb9734bd5d77fc4ad4ac762ae1\", element=\"c9d01d3d-9cde-4ffe-b886-f11438cb2b33\")>, <selenium.webdriver.remote.webelement.WebElement (session=\"54d294bb9734bd5d77fc4ad4ac762ae1\", element=\"085c6d96-18d4-420b-8333-22c3d0429772\")>, <selenium.webdriver.remote.webelement.WebElement (session=\"54d294bb9734bd5d77fc4ad4ac762ae1\", element=\"fe1d260f-bab0-436e-9dbf-64b56cb5324a\")>, <selenium.webdriver.remote.webelement.WebElement (session=\"54d294bb9734bd5d77fc4ad4ac762ae1\", element=\"c1fed3ca-722f-4329-908e-395d70ecf663\")>, <selenium.webdriver.remote.webelement.WebElement (session=\"54d294bb9734bd5d77fc4ad4ac762ae1\", element=\"8e414dce-ea36-43da-a338-ef1059886bb8\")>, <selenium.webdriver.remote.webelement.WebElement (session=\"54d294bb9734bd5d77fc4ad4ac762ae1\", element=\"c9ef5f8f-8c97-41b1-8642-3e2f63f521e5\")>, <selenium.webdriver.remote.webelement.WebElement (session=\"54d294bb9734bd5d77fc4ad4ac762ae1\", element=\"3f7eeb2e-6f4c-4fb0-85a7-aa715ad4e32a\")>, <selenium.webdriver.remote.webelement.WebElement (session=\"54d294bb9734bd5d77fc4ad4ac762ae1\", element=\"590ef666-6c63-4e08-8f53-c0ddaf8bc6bf\")>, <selenium.webdriver.remote.webelement.WebElement (session=\"54d294bb9734bd5d77fc4ad4ac762ae1\", element=\"512664d2-af3d-471e-983a-52a7adf876e2\")>, <selenium.webdriver.remote.webelement.WebElement (session=\"54d294bb9734bd5d77fc4ad4ac762ae1\", element=\"6f85a88c-3bc8-4f90-a0d4-8675900073a0\")>, <selenium.webdriver.remote.webelement.WebElement (session=\"54d294bb9734bd5d77fc4ad4ac762ae1\", element=\"11082db6-22b0-4a4c-a4a8-fa1c79040f09\")>, <selenium.webdriver.remote.webelement.WebElement (session=\"54d294bb9734bd5d77fc4ad4ac762ae1\", element=\"9c8779f0-5fc0-4654-8349-238055fd61b3\")>, <selenium.webdriver.remote.webelement.WebElement (session=\"54d294bb9734bd5d77fc4ad4ac762ae1\", element=\"6559a146-8a33-43c8-8be8-c5dda1ffd4cd\")>, <selenium.webdriver.remote.webelement.WebElement (session=\"54d294bb9734bd5d77fc4ad4ac762ae1\", element=\"a8c73259-2992-49de-8275-8b1b6b03c498\")>, <selenium.webdriver.remote.webelement.WebElement (session=\"54d294bb9734bd5d77fc4ad4ac762ae1\", element=\"4e355b58-f6f2-4f59-81ed-fd7685423a20\")>, <selenium.webdriver.remote.webelement.WebElement (session=\"54d294bb9734bd5d77fc4ad4ac762ae1\", element=\"c1074861-be9e-4922-b5f9-7be115d43a67\")>, <selenium.webdriver.remote.webelement.WebElement (session=\"54d294bb9734bd5d77fc4ad4ac762ae1\", element=\"55f7b37b-ab39-4aae-ac4d-9d56b1c1a16f\")>, <selenium.webdriver.remote.webelement.WebElement (session=\"54d294bb9734bd5d77fc4ad4ac762ae1\", element=\"cae2d96b-681e-487e-abdc-408e3c2aa655\")>, <selenium.webdriver.remote.webelement.WebElement (session=\"54d294bb9734bd5d77fc4ad4ac762ae1\", element=\"7c5c2377-8935-4407-bfef-8fbfd87220a1\")>, <selenium.webdriver.remote.webelement.WebElement (session=\"54d294bb9734bd5d77fc4ad4ac762ae1\", element=\"7773d92a-147b-453a-ae22-a33ea786daaa\")>], [<selenium.webdriver.remote.webelement.WebElement (session=\"54d294bb9734bd5d77fc4ad4ac762ae1\", element=\"6ce3150d-c9be-4d50-9aee-12f82df4e3cc\")>, <selenium.webdriver.remote.webelement.WebElement (session=\"54d294bb9734bd5d77fc4ad4ac762ae1\", element=\"858b2c38-c493-4326-b412-c4992a3db0a6\")>, <selenium.webdriver.remote.webelement.WebElement (session=\"54d294bb9734bd5d77fc4ad4ac762ae1\", element=\"1abc1816-ff5d-497e-86c3-4815be6f5515\")>, <selenium.webdriver.remote.webelement.WebElement (session=\"54d294bb9734bd5d77fc4ad4ac762ae1\", element=\"11402837-a5aa-4de7-9bf4-1ef42c423669\")>, <selenium.webdriver.remote.webelement.WebElement (session=\"54d294bb9734bd5d77fc4ad4ac762ae1\", element=\"c5c1d5bd-5236-4ebc-963f-8df75dae435e\")>, <selenium.webdriver.remote.webelement.WebElement (session=\"54d294bb9734bd5d77fc4ad4ac762ae1\", element=\"fa5554c0-7e6e-4101-8f1f-a84d8e28a071\")>, <selenium.webdriver.remote.webelement.WebElement (session=\"54d294bb9734bd5d77fc4ad4ac762ae1\", element=\"2175e326-4f09-4aec-b480-40cc4e14178b\")>, <selenium.webdriver.remote.webelement.WebElement (session=\"54d294bb9734bd5d77fc4ad4ac762ae1\", element=\"71e66d04-db67-453d-9528-cdafac053a00\")>, <selenium.webdriver.remote.webelement.WebElement (session=\"54d294bb9734bd5d77fc4ad4ac762ae1\", element=\"34575cf3-d266-4117-b635-f5504150ad00\")>, <selenium.webdriver.remote.webelement.WebElement (session=\"54d294bb9734bd5d77fc4ad4ac762ae1\", element=\"837d8413-edfb-4487-a6d6-305a9c36b4e6\")>, <selenium.webdriver.remote.webelement.WebElement (session=\"54d294bb9734bd5d77fc4ad4ac762ae1\", element=\"a1c42e59-fdfc-4097-99c0-707fdf6d711a\")>, <selenium.webdriver.remote.webelement.WebElement (session=\"54d294bb9734bd5d77fc4ad4ac762ae1\", element=\"432be3d9-a80b-4444-8b8e-91eb39d63c43\")>, <selenium.webdriver.remote.webelement.WebElement (session=\"54d294bb9734bd5d77fc4ad4ac762ae1\", element=\"4a9f179d-5141-4fcc-9b18-55715a7ed22f\")>, <selenium.webdriver.remote.webelement.WebElement (session=\"54d294bb9734bd5d77fc4ad4ac762ae1\", element=\"75ba2242-c080-44a4-9571-2e227a0fafc1\")>, <selenium.webdriver.remote.webelement.WebElement (session=\"54d294bb9734bd5d77fc4ad4ac762ae1\", element=\"04268b8c-9efc-432d-8e7e-6fd77f3ea81b\")>, <selenium.webdriver.remote.webelement.WebElement (session=\"54d294bb9734bd5d77fc4ad4ac762ae1\", element=\"96816c87-3188-4b2c-8806-f347c76cb52a\")>, <selenium.webdriver.remote.webelement.WebElement (session=\"54d294bb9734bd5d77fc4ad4ac762ae1\", element=\"af8f5613-5eda-4dbd-855a-994f9b80dbee\")>, <selenium.webdriver.remote.webelement.WebElement (session=\"54d294bb9734bd5d77fc4ad4ac762ae1\", element=\"84ef4429-fe17-43c3-9df6-7f7c37a85db8\")>, <selenium.webdriver.remote.webelement.WebElement (session=\"54d294bb9734bd5d77fc4ad4ac762ae1\", element=\"97830ba9-416d-4d59-8117-83524ea1524c\")>, <selenium.webdriver.remote.webelement.WebElement (session=\"54d294bb9734bd5d77fc4ad4ac762ae1\", element=\"825b2d48-cd99-43a0-93c7-be3bb6cec94b\")>, <selenium.webdriver.remote.webelement.WebElement (session=\"54d294bb9734bd5d77fc4ad4ac762ae1\", element=\"621cc902-bd86-43b5-97cc-fc8b630aa800\")>, <selenium.webdriver.remote.webelement.WebElement (session=\"54d294bb9734bd5d77fc4ad4ac762ae1\", element=\"0a280317-9321-4473-884b-59f07062dc80\")>, <selenium.webdriver.remote.webelement.WebElement (session=\"54d294bb9734bd5d77fc4ad4ac762ae1\", element=\"30353eb3-5be7-473d-a0bc-aa6541ca8d40\")>, <selenium.webdriver.remote.webelement.WebElement (session=\"54d294bb9734bd5d77fc4ad4ac762ae1\", element=\"eddb90f8-44eb-439a-89d2-af48adc05b8c\")>, <selenium.webdriver.remote.webelement.WebElement (session=\"54d294bb9734bd5d77fc4ad4ac762ae1\", element=\"f5739617-c7ca-4573-868f-d4402fd2020b\")>, <selenium.webdriver.remote.webelement.WebElement (session=\"54d294bb9734bd5d77fc4ad4ac762ae1\", element=\"500e013e-7da0-4641-ba4e-4652855c6101\")>, <selenium.webdriver.remote.webelement.WebElement (session=\"54d294bb9734bd5d77fc4ad4ac762ae1\", element=\"fff6917a-b0a3-4eb3-9fd9-734b25c95412\")>, <selenium.webdriver.remote.webelement.WebElement (session=\"54d294bb9734bd5d77fc4ad4ac762ae1\", element=\"05a9f59f-c3b4-4c08-af25-f794d845c01e\")>, <selenium.webdriver.remote.webelement.WebElement (session=\"54d294bb9734bd5d77fc4ad4ac762ae1\", element=\"74f225d1-0fe3-4df3-a7e1-dd1fe6166fe2\")>, <selenium.webdriver.remote.webelement.WebElement (session=\"54d294bb9734bd5d77fc4ad4ac762ae1\", element=\"72fbc578-ef0f-41b2-9128-81b904c542f8\")>, <selenium.webdriver.remote.webelement.WebElement (session=\"54d294bb9734bd5d77fc4ad4ac762ae1\", element=\"df31b4c4-794e-4601-9092-6fc578ac8819\")>, <selenium.webdriver.remote.webelement.WebElement (session=\"54d294bb9734bd5d77fc4ad4ac762ae1\", element=\"5e773d76-ab43-4e47-b1ff-2d678cd97b73\")>, <selenium.webdriver.remote.webelement.WebElement (session=\"54d294bb9734bd5d77fc4ad4ac762ae1\", element=\"3b8d23ea-eb62-4780-9632-d20dae1c89a9\")>, <selenium.webdriver.remote.webelement.WebElement (session=\"54d294bb9734bd5d77fc4ad4ac762ae1\", element=\"f9eb7749-029c-4913-8840-823fdd7bb2fe\")>, <selenium.webdriver.remote.webelement.WebElement (session=\"54d294bb9734bd5d77fc4ad4ac762ae1\", element=\"8acd4a12-3826-463b-8f5c-43792a93e2e0\")>, <selenium.webdriver.remote.webelement.WebElement (session=\"54d294bb9734bd5d77fc4ad4ac762ae1\", element=\"7b6713e7-7831-4a1d-8b98-c07254ab0ccb\")>, <selenium.webdriver.remote.webelement.WebElement (session=\"54d294bb9734bd5d77fc4ad4ac762ae1\", element=\"63bf065f-5278-4490-92d5-b87a3eb21d7d\")>, <selenium.webdriver.remote.webelement.WebElement (session=\"54d294bb9734bd5d77fc4ad4ac762ae1\", element=\"6c4ae840-582c-41e1-855c-75860a5d735c\")>, <selenium.webdriver.remote.webelement.WebElement (session=\"54d294bb9734bd5d77fc4ad4ac762ae1\", element=\"508d1d99-b34b-4cf9-8468-ff6727cf6bd3\")>, <selenium.webdriver.remote.webelement.WebElement (session=\"54d294bb9734bd5d77fc4ad4ac762ae1\", element=\"b1735dee-5b0b-4292-8a31-e37c64a3279a\")>, <selenium.webdriver.remote.webelement.WebElement (session=\"54d294bb9734bd5d77fc4ad4ac762ae1\", element=\"9d88795d-0440-4c13-8acc-162c37c8159d\")>, <selenium.webdriver.remote.webelement.WebElement (session=\"54d294bb9734bd5d77fc4ad4ac762ae1\", element=\"6ece6bd1-49de-49fa-b25f-760299539b2b\")>])\n"
     ]
    }
   ],
   "source": [
    "def spot_some_air_stuff(browser):\n",
    "    # these are all the elements, corresponding to the desired filter\n",
    "    elements = browser.find_elements(By.CSS_SELECTOR, \"div[role=button][tabindex='-1']\")\n",
    "    airports = []\n",
    "    airplanes = []\n",
    "    \n",
    "    for element in elements:\n",
    "        aria = element.get_attribute(\"aria-label\")\n",
    "        if aria:\n",
    "            airports.append(element)\n",
    "        else:\n",
    "            airplanes.append(element)\n",
    "    return airports, airplanes\n",
    "\n",
    "print(spot_some_air_stuff(browser))"
   ]
  },
  {
   "cell_type": "markdown",
   "id": "54f15191-b605-446c-960d-68ab2dcfda62",
   "metadata": {},
   "source": [
    "### Get the info from the pane\n",
    "\n",
    "When we click on the airplane image, a side pane appears. We will read the info from this pane."
   ]
  },
  {
   "cell_type": "code",
   "execution_count": 49,
   "id": "7f679837-54fa-48c6-b748-b9e8e6cf2a2b",
   "metadata": {},
   "outputs": [],
   "source": [
    "def get_flight_info(browser):\n",
    "    flight = browser.find_element(By.CSS_SELECTOR, 'h2.airline-info__flight-no')\n",
    "    dep = browser.find_element(By.CSS_SELECTOR, \"a.dep.iata\")\n",
    "    dest = browser.find_element(By.CSS_SELECTOR, \"a.arr.iata\")\n",
    "    flight_number = flight.text\n",
    "    departure = dep.get_attribute('data-tooltip-value')\n",
    "    destination = dest.get_attribute('data-tooltip-value')   \n",
    "    return flight_number, departure, destination"
   ]
  },
  {
   "cell_type": "markdown",
   "id": "7892c1b2-7feb-4244-99df-a9514b6777f5",
   "metadata": {},
   "source": [
    "### And here is the main method\n",
    "\n",
    "Add some missing code lines, where TODO is specified."
   ]
  },
  {
   "cell_type": "code",
   "execution_count": 50,
   "id": "a2bcff33-5a4f-4a1d-9d8b-6877086b42a7",
   "metadata": {},
   "outputs": [],
   "source": [
    "def report_flights(browser, center, scale):\n",
    "    import time\n",
    "\n",
    "    browser.get(f\"https://www.flightradar24.com/{center}/{scale}\")\n",
    "    # wait a page to load\n",
    "    browser.implicitly_wait(5)\n",
    "    # wait dynamic elements to load\n",
    "    time.sleep(5)\n",
    "    innopolis_px = get_center_point(browser)   \n",
    "    airports, airplanes = spot_some_air_stuff(browser)\n",
    "    for element in airports:\n",
    "        loc = element.location\n",
    "\n",
    "        # shifts are due to airport figure size\n",
    "        coord = (element.location['x'] + element.size['width'] // 2, \n",
    "                 element.location['y'] + element.size['height'] // 2)\n",
    "        d = dist(innopolis_px, coord) * scale_km_per_px(scale)\n",
    "        print(f\"Airport {element.get_attribute('aria-label')} is {d:.2f} km away.\")\n",
    "    \n",
    "    for element in airplanes:\n",
    "        try:\n",
    "            # TODO click on the airplane icon (element). See https://selenium-python.readthedocs.io/api.html#selenium.webdriver.remote.webelement.WebElement.click\n",
    "            # your code here\n",
    "            element.click()\n",
    "            \n",
    "            # let it render the pane\n",
    "            time.sleep(1)\n",
    "            # extract flight info from the pane\n",
    "            flight_number, departure, destination = get_flight_info(browser)\n",
    "            # shifts are due to airplane figure size\n",
    "            coord = (element.location['x'] + element.size['width'] // 2, \n",
    "                     element.location['y'] + element.size['height'] // 2)\n",
    "            d = dist(innopolis_px, coord) * scale_km_per_px(scale)\n",
    "            message = (f\"{flight_number} flies\\n\\tfrom \" + \n",
    "                       f\"{departure}\\n\\tto \" + \n",
    "                       f\"{destination}\\n\\t\" + \n",
    "                       f\"{d:.2f}km far away from Innopolis\")\n",
    "            message = message.replace(\"<br>\", \" \")\n",
    "            print(message)\n",
    "\n",
    "            # TODO: click on the [x] in the corner of the panel.\n",
    "            close = browser.find_element(By.CSS_SELECTOR, \"a.close-panel\")\n",
    "            close.click()\n",
    "            # this is an <a> tag with 'close-panel' class\n",
    "\n",
    "            # NB: Sometimes this can also raise and exception due to occlusion\n",
    "            # your code here\n",
    "        except Exception as e:\n",
    "            pass\n",
    "            # print(e)"
   ]
  },
  {
   "cell_type": "code",
   "execution_count": 52,
   "id": "1daeceee-1415-439c-80eb-a5b921a47853",
   "metadata": {},
   "outputs": [
    {
     "name": "stdout",
     "output_type": "stream",
     "text": [
      "Airport Ulyanovsk Vostochny Airport (ULY/UWLW) is 139.84 km away.\n",
      "Airport Cheboksary Airport (CSY/UWKS) is 91.08 km away.\n",
      "Airport Kazan International Airport (KZN/UWKD) is 37.95 km away.\n",
      "UT363 flies\n",
      "\tfrom Moscow Vnukovo International Airport (VKO/UUWW)\n",
      "\tto Ufa International Airport (UFA/UWUU)\n",
      "\t132.31km far away from Innopolis\n",
      "CPU times: user 35.3 ms, sys: 2.43 ms, total: 37.8 ms\n",
      "Wall time: 15.7 s\n"
     ]
    }
   ],
   "source": [
    "%%time\n",
    "report_flights(browser, innopolis, 8)"
   ]
  },
  {
   "cell_type": "markdown",
   "id": "4a3e85ae-291f-40e3-97ed-70a914c62ef3",
   "metadata": {},
   "source": [
    "### And now we close the browser"
   ]
  },
  {
   "cell_type": "code",
   "execution_count": 25,
   "id": "cf841036-517d-49af-b8ca-1d4fc7489014",
   "metadata": {},
   "outputs": [],
   "source": [
    "browser.quit()"
   ]
  },
  {
   "cell_type": "markdown",
   "id": "5e640683-8102-4b30-9af3-da006cfbe9f6",
   "metadata": {},
   "source": [
    "## Headless\n",
    "\n",
    "Drawing the page explicitly consumes additional resources. Thus, we will run our application with no browser window now!\n",
    "\n",
    "Browsers (at least [FF](https://developer.mozilla.org/en-US/docs/Mozilla/Firefox/Headless_mode), [Chrome](https://intoli.com/blog/running-selenium-with-headless-chrome/), IE) have headless mode - no window rendering and so on. Which means it should work much faster!"
   ]
  },
  {
   "cell_type": "code",
   "execution_count": 53,
   "id": "c4927163-addd-4990-8922-e6b84b270b1a",
   "metadata": {},
   "outputs": [],
   "source": [
    "options = webdriver.ChromeOptions()\n",
    "options.add_argument('window-size=1200x600')\n",
    "options.add_argument('--headless')\n",
    "browser = webdriver.Chrome(options=options)"
   ]
  },
  {
   "cell_type": "code",
   "execution_count": 57,
   "id": "9d74fd08-33e3-40cf-9988-1c58caad2fa8",
   "metadata": {},
   "outputs": [
    {
     "name": "stdout",
     "output_type": "stream",
     "text": [
      "Airport Kazan International Airport (KZN/UWKD) is 37.95 km away.\n",
      "UT363 flies\n",
      "\tfrom Moscow Vnukovo International Airport (VKO/UUWW)\n",
      "\tto Ufa International Airport (UFA/UWUU)\n",
      "\t151.16km far away from Innopolis\n",
      "CPU times: user 22.9 ms, sys: 168 µs, total: 23 ms\n",
      "Wall time: 8.81 s\n"
     ]
    }
   ],
   "source": [
    "%%time\n",
    "report_flights(browser, innopolis, 8)"
   ]
  },
  {
   "cell_type": "code",
   "execution_count": 58,
   "id": "b64f847f-011f-46a6-a7ed-c096c669f8e3",
   "metadata": {},
   "outputs": [],
   "source": [
    "browser.quit()"
   ]
  }
 ],
 "metadata": {
  "kernelspec": {
   "display_name": "base",
   "language": "python",
   "name": "python3"
  },
  "language_info": {
   "codemirror_mode": {
    "name": "ipython",
    "version": 3
   },
   "file_extension": ".py",
   "mimetype": "text/x-python",
   "name": "python",
   "nbconvert_exporter": "python",
   "pygments_lexer": "ipython3",
   "version": "3.9.13"
  },
  "vscode": {
   "interpreter": {
    "hash": "eed9e8639464753a7496f2946c1b6c9a3c6cc50388dd19af957150e60e3c727b"
   }
  }
 },
 "nbformat": 4,
 "nbformat_minor": 5
}
